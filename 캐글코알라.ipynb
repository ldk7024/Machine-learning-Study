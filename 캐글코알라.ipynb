{
 "cells": [
  {
   "cell_type": "code",
   "execution_count": 1,
   "metadata": {},
   "outputs": [],
   "source": [
    "import pandas as pd\n",
    "import numpy as np\n",
    "import matplotlib.pyplot as plt\n",
    "import seaborn as sns"
   ]
  },
  {
   "cell_type": "code",
   "execution_count": 2,
   "metadata": {},
   "outputs": [],
   "source": [
    "train = pd.read_csv('data/train.csv', index_col='ID')\n",
    "test = pd.read_csv('data/test.csv', index_col='ID')"
   ]
  },
  {
   "cell_type": "code",
   "execution_count": 3,
   "metadata": {},
   "outputs": [],
   "source": [
    "train = train.rename(columns = {'Warehouse_block ': 'Warehouse_block'})\n",
    "test = test.rename(columns = {'Warehouse_block ': 'Warehouse_block'})"
   ]
  },
  {
   "cell_type": "code",
   "execution_count": 4,
   "metadata": {},
   "outputs": [],
   "source": [
    "train['Mode_of_Shipment']=train['Mode_of_Shipment'].replace(' Shipzk', 'Ship')\n",
    "train['Mode_of_Shipment']=train['Mode_of_Shipment'].replace(' Flightzk', 'Flight')\n",
    "train['Mode_of_Shipment']=train['Mode_of_Shipment'].replace(' Roadzk', 'Road')\n",
    "train['Mode_of_Shipment']=train['Mode_of_Shipment'].replace(' Ship', 'Ship')\n",
    "train['Mode_of_Shipment']=train['Mode_of_Shipment'].replace(' Flight', 'Flight')\n",
    "train['Mode_of_Shipment']=train['Mode_of_Shipment'].replace(' Road', 'Road')"
   ]
  },
  {
   "cell_type": "code",
   "execution_count": 6,
   "metadata": {},
   "outputs": [],
   "source": [
    "test['Mode_of_Shipment']=test['Mode_of_Shipment'].replace(' Shipzk', 'Ship')\n",
    "test['Mode_of_Shipment']=test['Mode_of_Shipment'].replace(' Flightzk', 'Flight')\n",
    "test['Mode_of_Shipment']=test['Mode_of_Shipment'].replace(' Roadzk', 'Road')\n",
    "test['Mode_of_Shipment']=test['Mode_of_Shipment'].replace(' Ship', 'Ship')\n",
    "test['Mode_of_Shipment']=test['Mode_of_Shipment'].replace(' Flight', 'Flight')\n",
    "test['Mode_of_Shipment']=test['Mode_of_Shipment'].replace(' Road', 'Road')"
   ]
  },
  {
   "cell_type": "code",
   "execution_count": 7,
   "metadata": {},
   "outputs": [],
   "source": [
    "train['Customer_rating']=train['Customer_rating'].replace(99, 3)\n",
    "test['Customer_rating']=test['Customer_rating'].replace(99, 3)"
   ]
  },
  {
   "cell_type": "code",
   "execution_count": 8,
   "metadata": {},
   "outputs": [],
   "source": [
    "train['Product_importance'] = train['Product_importance'].replace('mediumm', 'medium')\n",
    "train['Product_importance'] = train['Product_importance'].replace('loww', 'low')\n",
    "train['Product_importance'] = train['Product_importance'].replace('highh', 'high')"
   ]
  },
  {
   "cell_type": "code",
   "execution_count": 9,
   "metadata": {},
   "outputs": [],
   "source": [
    "test['Product_importance'] = test['Product_importance'].replace('mediumm', 'medium')\n",
    "test['Product_importance'] = test['Product_importance'].replace('loww', 'low')\n",
    "test['Product_importance'] = test['Product_importance'].replace('highh', 'high')"
   ]
  },
  {
   "cell_type": "code",
   "execution_count": 10,
   "metadata": {},
   "outputs": [],
   "source": [
    "train['Product_importance'] = train['Product_importance'].replace('?','low')\n",
    "test['Product_importance'] = test['Product_importance'].replace('?','low')"
   ]
  },
  {
   "cell_type": "code",
   "execution_count": 11,
   "metadata": {},
   "outputs": [],
   "source": [
    "train['Customer_care_calls']=train['Customer_care_calls'].fillna(2)\n",
    "test['Customer_care_calls']=test['Customer_care_calls'].fillna(2)"
   ]
  },
  {
   "cell_type": "code",
   "execution_count": 12,
   "metadata": {},
   "outputs": [],
   "source": [
    "train['Customer_care_calls']=train['Customer_care_calls'].astype('int64')\n",
    "test['Customer_care_calls']=test['Customer_care_calls'].astype('int64')"
   ]
  },
  {
   "cell_type": "code",
   "execution_count": 13,
   "metadata": {},
   "outputs": [],
   "source": [
    "train['Prior_purchases']=train['Prior_purchases'].fillna(0)\n",
    "test['Prior_purchases']=test['Prior_purchases'].fillna(0)"
   ]
  },
  {
   "cell_type": "code",
   "execution_count": 16,
   "metadata": {},
   "outputs": [
    {
     "name": "stdout",
     "output_type": "stream",
     "text": [
      "<class 'pandas.core.frame.DataFrame'>\n",
      "Int64Index: 6999 entries, 1 to 6999\n",
      "Data columns (total 11 columns):\n",
      " #   Column               Non-Null Count  Dtype  \n",
      "---  ------               --------------  -----  \n",
      " 0   Warehouse_block      6999 non-null   object \n",
      " 1   Mode_of_Shipment     6999 non-null   object \n",
      " 2   Customer_care_calls  6999 non-null   int64  \n",
      " 3   Customer_rating      6999 non-null   int64  \n",
      " 4   Cost_of_the_Product  6999 non-null   int64  \n",
      " 5   Prior_purchases      6999 non-null   float64\n",
      " 6   Product_importance   6999 non-null   object \n",
      " 7   Gender               6999 non-null   object \n",
      " 8   Discount_offered     3468 non-null   float64\n",
      " 9   Weight_in_gms        6999 non-null   object \n",
      " 10  Reached.on.Time_Y.N  6999 non-null   int64  \n",
      "dtypes: float64(2), int64(4), object(5)\n",
      "memory usage: 656.2+ KB\n"
     ]
    }
   ],
   "source": [
    "train.info()"
   ]
  },
  {
   "cell_type": "code",
   "execution_count": 17,
   "metadata": {},
   "outputs": [],
   "source": [
    "train['Discount_offered']=train['Discount_offered'].fillna(0)\n",
    "test['Discount_offered']=test['Discount_offered'].fillna(0)"
   ]
  },
  {
   "cell_type": "code",
   "execution_count": 18,
   "metadata": {},
   "outputs": [],
   "source": [
    "mask = train['Weight_in_gms'].isin(['?'])\n",
    "del_wei_question=train[~mask]"
   ]
  },
  {
   "cell_type": "code",
   "execution_count": 20,
   "metadata": {},
   "outputs": [
    {
     "name": "stderr",
     "output_type": "stream",
     "text": [
      "<ipython-input-20-9102d6bf3727>:1: SettingWithCopyWarning: \n",
      "A value is trying to be set on a copy of a slice from a DataFrame.\n",
      "Try using .loc[row_indexer,col_indexer] = value instead\n",
      "\n",
      "See the caveats in the documentation: https://pandas.pydata.org/pandas-docs/stable/user_guide/indexing.html#returning-a-view-versus-a-copy\n",
      "  del_wei_question['Weight_in_gms']=del_wei_question['Weight_in_gms'].astype('int64')\n"
     ]
    }
   ],
   "source": [
    "del_wei_question['Weight_in_gms']=del_wei_question['Weight_in_gms'].astype('int64')"
   ]
  },
  {
   "cell_type": "code",
   "execution_count": 21,
   "metadata": {},
   "outputs": [],
   "source": [
    "pivot = del_wei_question.pivot_table(values='Weight_in_gms',\n",
    "                         index=['Customer_care_calls'],\n",
    "                         aggfunc='mean'\n",
    "                         )\n",
    "pivot['Weight_in_gms']=pivot['Weight_in_gms'].astype('int64')"
   ]
  },
  {
   "cell_type": "code",
   "execution_count": 22,
   "metadata": {},
   "outputs": [],
   "source": [
    "train['Weight_in_gms']=train['Weight_in_gms'].replace('?', '0')"
   ]
  },
  {
   "cell_type": "code",
   "execution_count": 23,
   "metadata": {},
   "outputs": [],
   "source": [
    "test['Weight_in_gms']=test['Weight_in_gms'].replace('?', '0')"
   ]
  },
  {
   "cell_type": "code",
   "execution_count": 24,
   "metadata": {},
   "outputs": [],
   "source": [
    "train['Weight_in_gms']=train['Weight_in_gms'].astype('int64')"
   ]
  },
  {
   "cell_type": "code",
   "execution_count": 25,
   "metadata": {},
   "outputs": [],
   "source": [
    "test['Weight_in_gms']=test['Weight_in_gms'].astype('int64')"
   ]
  },
  {
   "cell_type": "code",
   "execution_count": 26,
   "metadata": {},
   "outputs": [],
   "source": [
    "def fill_wei(data):\n",
    "    if data['Weight_in_gms']==0:\n",
    "        return pivot.loc[data['Customer_care_calls']]\n",
    "    else:\n",
    "        return data['Weight_in_gms']"
   ]
  },
  {
   "cell_type": "code",
   "execution_count": 27,
   "metadata": {},
   "outputs": [],
   "source": [
    "train['Weight_in_gms'] = train.apply(fill_wei, axis=1).astype('int64')"
   ]
  },
  {
   "cell_type": "code",
   "execution_count": 28,
   "metadata": {},
   "outputs": [],
   "source": [
    "test['Weight_in_gms'] = test.apply(fill_wei, axis=1).astype('int64')"
   ]
  },
  {
   "cell_type": "code",
   "execution_count": null,
   "metadata": {},
   "outputs": [],
   "source": []
  },
  {
   "cell_type": "code",
   "execution_count": null,
   "metadata": {},
   "outputs": [],
   "source": []
  },
  {
   "cell_type": "code",
   "execution_count": null,
   "metadata": {},
   "outputs": [],
   "source": []
  },
  {
   "cell_type": "code",
   "execution_count": null,
   "metadata": {},
   "outputs": [],
   "source": []
  },
  {
   "cell_type": "code",
   "execution_count": null,
   "metadata": {},
   "outputs": [],
   "source": []
  },
  {
   "cell_type": "code",
   "execution_count": null,
   "metadata": {},
   "outputs": [],
   "source": []
  }
 ],
 "metadata": {
  "kernelspec": {
   "display_name": "Python 3",
   "language": "python",
   "name": "python3"
  },
  "language_info": {
   "codemirror_mode": {
    "name": "ipython",
    "version": 3
   },
   "file_extension": ".py",
   "mimetype": "text/x-python",
   "name": "python",
   "nbconvert_exporter": "python",
   "pygments_lexer": "ipython3",
   "version": "3.8.5"
  },
  "toc": {
   "base_numbering": 1,
   "nav_menu": {},
   "number_sections": true,
   "sideBar": true,
   "skip_h1_title": false,
   "title_cell": "Table of Contents",
   "title_sidebar": "Contents",
   "toc_cell": false,
   "toc_position": {},
   "toc_section_display": true,
   "toc_window_display": false
  }
 },
 "nbformat": 4,
 "nbformat_minor": 4
}

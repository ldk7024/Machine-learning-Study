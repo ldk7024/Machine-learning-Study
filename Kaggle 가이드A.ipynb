{
 "cells": [
  {
   "cell_type": "code",
   "execution_count": 1,
   "metadata": {
    "ExecuteTime": {
     "end_time": "2021-06-04T06:40:04.729843Z",
     "start_time": "2021-06-04T06:40:03.994710Z"
    }
   },
   "outputs": [],
   "source": [
    "import pandas as pd\n",
    "import numpy as np\n",
    "import matplotlib.pyplot as plt\n",
    "import seaborn as sns"
   ]
  },
  {
   "cell_type": "markdown",
   "metadata": {},
   "source": [
    "# 데이터 불러오기"
   ]
  },
  {
   "cell_type": "code",
   "execution_count": 2,
   "metadata": {
    "ExecuteTime": {
     "end_time": "2021-06-04T06:40:04.760787Z",
     "start_time": "2021-06-04T06:40:04.730812Z"
    }
   },
   "outputs": [],
   "source": [
    "train = pd.read_csv('data/train.csv', index_col='ID')\n",
    "test = pd.read_csv('data/test.csv', index_col='ID')"
   ]
  },
  {
   "cell_type": "markdown",
   "metadata": {},
   "source": [
    "# 이상치, 결측치 제거"
   ]
  },
  {
   "cell_type": "code",
   "execution_count": 3,
   "metadata": {
    "ExecuteTime": {
     "end_time": "2021-06-04T06:40:04.776775Z",
     "start_time": "2021-06-04T06:40:04.761755Z"
    }
   },
   "outputs": [],
   "source": [
    "# 공백문자가 포함된 컬럼 warehouse_block 수정\n",
    "train = train.rename(columns = {'Warehouse_block ': 'Warehouse_block'})\n",
    "test = test.rename(columns = {'Warehouse_block ': 'Warehouse_block'})"
   ]
  },
  {
   "cell_type": "code",
   "execution_count": 4,
   "metadata": {
    "ExecuteTime": {
     "end_time": "2021-06-04T06:40:04.792619Z",
     "start_time": "2021-06-04T06:40:04.777773Z"
    }
   },
   "outputs": [],
   "source": [
    "train['Mode_of_Shipment']=train['Mode_of_Shipment'].replace(' Shipzk', 'Ship')\n",
    "train['Mode_of_Shipment']=train['Mode_of_Shipment'].replace(' Flightzk', 'Flight')\n",
    "train['Mode_of_Shipment']=train['Mode_of_Shipment'].replace(' Roadzk', 'Road')\n",
    "train['Mode_of_Shipment']=train['Mode_of_Shipment'].replace(' Ship', 'Ship')\n",
    "train['Mode_of_Shipment']=train['Mode_of_Shipment'].replace(' Flight', 'Flight')\n",
    "train['Mode_of_Shipment']=train['Mode_of_Shipment'].replace(' Road', 'Road')"
   ]
  },
  {
   "cell_type": "code",
   "execution_count": 5,
   "metadata": {
    "ExecuteTime": {
     "end_time": "2021-06-04T06:40:04.808543Z",
     "start_time": "2021-06-04T06:40:04.793283Z"
    }
   },
   "outputs": [],
   "source": [
    "test['Mode_of_Shipment']=test['Mode_of_Shipment'].replace(' Shipzk', 'Ship')\n",
    "test['Mode_of_Shipment']=test['Mode_of_Shipment'].replace(' Flightzk', 'Flight')\n",
    "test['Mode_of_Shipment']=test['Mode_of_Shipment'].replace(' Roadzk', 'Road')\n",
    "test['Mode_of_Shipment']=test['Mode_of_Shipment'].replace(' Ship', 'Ship')\n",
    "test['Mode_of_Shipment']=test['Mode_of_Shipment'].replace(' Flight', 'Flight')\n",
    "test['Mode_of_Shipment']=test['Mode_of_Shipment'].replace(' Road', 'Road')"
   ]
  },
  {
   "cell_type": "code",
   "execution_count": 6,
   "metadata": {
    "ExecuteTime": {
     "end_time": "2021-06-04T06:40:04.824262Z",
     "start_time": "2021-06-04T06:40:04.809535Z"
    }
   },
   "outputs": [],
   "source": [
    "train['Customer_rating']=train['Customer_rating'].replace(99, 3)"
   ]
  },
  {
   "cell_type": "code",
   "execution_count": 7,
   "metadata": {
    "ExecuteTime": {
     "end_time": "2021-06-04T06:40:04.839951Z",
     "start_time": "2021-06-04T06:40:04.825261Z"
    }
   },
   "outputs": [],
   "source": [
    "test['Customer_rating']=test['Customer_rating'].replace(99, 3)"
   ]
  },
  {
   "cell_type": "code",
   "execution_count": 8,
   "metadata": {
    "ExecuteTime": {
     "end_time": "2021-06-04T06:40:04.855459Z",
     "start_time": "2021-06-04T06:40:04.841916Z"
    }
   },
   "outputs": [],
   "source": [
    "train['Product_importance'] = train['Product_importance'].replace('mediumm', 'medium')\n",
    "train['Product_importance'] = train['Product_importance'].replace('loww', 'low')\n",
    "train['Product_importance'] = train['Product_importance'].replace('highh', 'high')"
   ]
  },
  {
   "cell_type": "code",
   "execution_count": 9,
   "metadata": {
    "ExecuteTime": {
     "end_time": "2021-06-04T06:40:04.870394Z",
     "start_time": "2021-06-04T06:40:04.856431Z"
    }
   },
   "outputs": [],
   "source": [
    "test['Product_importance'] = test['Product_importance'].replace('mediumm', 'medium')\n",
    "test['Product_importance'] = test['Product_importance'].replace('loww', 'low')\n",
    "test['Product_importance'] = test['Product_importance'].replace('highh', 'high')"
   ]
  },
  {
   "cell_type": "code",
   "execution_count": 10,
   "metadata": {
    "ExecuteTime": {
     "end_time": "2021-06-04T06:40:04.885373Z",
     "start_time": "2021-06-04T06:40:04.871392Z"
    }
   },
   "outputs": [],
   "source": [
    "# 그대로 사용"
   ]
  },
  {
   "cell_type": "code",
   "execution_count": 11,
   "metadata": {
    "ExecuteTime": {
     "end_time": "2021-06-04T06:40:04.901331Z",
     "start_time": "2021-06-04T06:40:04.886371Z"
    }
   },
   "outputs": [],
   "source": [
    "# 최빈값에 ? 대입\n",
    "train['Product_importance'] = train['Product_importance'].replace('?','low')\n",
    "test['Product_importance'] = test['Product_importance'].replace('?','low')"
   ]
  },
  {
   "cell_type": "code",
   "execution_count": 12,
   "metadata": {
    "ExecuteTime": {
     "end_time": "2021-06-04T06:40:04.916291Z",
     "start_time": "2021-06-04T06:40:04.902329Z"
    }
   },
   "outputs": [],
   "source": [
    "# customer_care_calls => 1576"
   ]
  },
  {
   "cell_type": "code",
   "execution_count": 13,
   "metadata": {
    "ExecuteTime": {
     "end_time": "2021-06-04T06:40:04.932248Z",
     "start_time": "2021-06-04T06:40:04.917288Z"
    }
   },
   "outputs": [],
   "source": [
    "train['Customer_care_calls']=train['Customer_care_calls'].fillna(0)\n",
    "test['Customer_care_calls']=test['Customer_care_calls'].fillna(0)"
   ]
  },
  {
   "cell_type": "code",
   "execution_count": 14,
   "metadata": {
    "ExecuteTime": {
     "end_time": "2021-06-04T06:40:04.948206Z",
     "start_time": "2021-06-04T06:40:04.933245Z"
    }
   },
   "outputs": [],
   "source": [
    "train['Customer_care_calls']=train['Customer_care_calls'].astype('int64')\n",
    "test['Customer_care_calls']=test['Customer_care_calls'].astype('int64')"
   ]
  },
  {
   "cell_type": "code",
   "execution_count": 15,
   "metadata": {
    "ExecuteTime": {
     "end_time": "2021-06-04T06:40:04.964234Z",
     "start_time": "2021-06-04T06:40:04.949204Z"
    }
   },
   "outputs": [],
   "source": [
    "# prior_purchases => 950 "
   ]
  },
  {
   "cell_type": "code",
   "execution_count": 16,
   "metadata": {
    "ExecuteTime": {
     "end_time": "2021-06-04T06:40:04.980192Z",
     "start_time": "2021-06-04T06:40:04.965203Z"
    }
   },
   "outputs": [],
   "source": [
    "train['Prior_purchases']=train['Prior_purchases'].fillna(0)\n",
    "test['Prior_purchases']=test['Prior_purchases'].fillna(0)"
   ]
  },
  {
   "cell_type": "code",
   "execution_count": 17,
   "metadata": {
    "ExecuteTime": {
     "end_time": "2021-06-04T06:40:04.996120Z",
     "start_time": "2021-06-04T06:40:04.981162Z"
    }
   },
   "outputs": [],
   "source": [
    "#고유한 값으로 사용?"
   ]
  },
  {
   "cell_type": "code",
   "execution_count": 18,
   "metadata": {
    "ExecuteTime": {
     "end_time": "2021-06-04T06:40:05.012077Z",
     "start_time": "2021-06-04T06:40:04.997117Z"
    }
   },
   "outputs": [],
   "source": [
    "mask = train['Weight_in_gms'].isin(['?'])\n",
    "del_wei_question=train[~mask]"
   ]
  },
  {
   "cell_type": "code",
   "execution_count": null,
   "metadata": {},
   "outputs": [],
   "source": []
  },
  {
   "cell_type": "code",
   "execution_count": 19,
   "metadata": {
    "ExecuteTime": {
     "end_time": "2021-06-04T06:40:05.028034Z",
     "start_time": "2021-06-04T06:40:05.013075Z"
    }
   },
   "outputs": [
    {
     "name": "stderr",
     "output_type": "stream",
     "text": [
      "<ipython-input-19-9102d6bf3727>:1: SettingWithCopyWarning: \n",
      "A value is trying to be set on a copy of a slice from a DataFrame.\n",
      "Try using .loc[row_indexer,col_indexer] = value instead\n",
      "\n",
      "See the caveats in the documentation: https://pandas.pydata.org/pandas-docs/stable/user_guide/indexing.html#returning-a-view-versus-a-copy\n",
      "  del_wei_question['Weight_in_gms']=del_wei_question['Weight_in_gms'].astype('int64')\n"
     ]
    }
   ],
   "source": [
    "del_wei_question['Weight_in_gms']=del_wei_question['Weight_in_gms'].astype('int64')"
   ]
  },
  {
   "cell_type": "code",
   "execution_count": 20,
   "metadata": {
    "ExecuteTime": {
     "end_time": "2021-06-04T06:40:05.044021Z",
     "start_time": "2021-06-04T06:40:05.029033Z"
    }
   },
   "outputs": [],
   "source": [
    "pivot = del_wei_question.pivot_table(values='Weight_in_gms',\n",
    "                         index=['Customer_care_calls'],\n",
    "                         aggfunc='mean'\n",
    "                         )\n",
    "pivot['Weight_in_gms']=pivot['Weight_in_gms'].astype('int64')"
   ]
  },
  {
   "cell_type": "code",
   "execution_count": 21,
   "metadata": {
    "ExecuteTime": {
     "end_time": "2021-06-04T06:40:05.059949Z",
     "start_time": "2021-06-04T06:40:05.044991Z"
    }
   },
   "outputs": [],
   "source": [
    "train['Weight_in_gms']=train['Weight_in_gms'].replace('?', '0')"
   ]
  },
  {
   "cell_type": "code",
   "execution_count": 22,
   "metadata": {
    "ExecuteTime": {
     "end_time": "2021-06-04T06:40:05.075907Z",
     "start_time": "2021-06-04T06:40:05.060946Z"
    }
   },
   "outputs": [],
   "source": [
    "test['Weight_in_gms']=test['Weight_in_gms'].replace('?', '0')"
   ]
  },
  {
   "cell_type": "code",
   "execution_count": 23,
   "metadata": {
    "ExecuteTime": {
     "end_time": "2021-06-04T06:40:05.091864Z",
     "start_time": "2021-06-04T06:40:05.078898Z"
    }
   },
   "outputs": [],
   "source": [
    "train['Weight_in_gms']=train['Weight_in_gms'].astype('int64')"
   ]
  },
  {
   "cell_type": "code",
   "execution_count": 24,
   "metadata": {
    "ExecuteTime": {
     "end_time": "2021-06-04T06:40:05.107850Z",
     "start_time": "2021-06-04T06:40:05.092861Z"
    }
   },
   "outputs": [],
   "source": [
    "test['Weight_in_gms']=test['Weight_in_gms'].astype('int64')"
   ]
  },
  {
   "cell_type": "code",
   "execution_count": 25,
   "metadata": {
    "ExecuteTime": {
     "end_time": "2021-06-04T06:40:31.013073Z",
     "start_time": "2021-06-04T06:40:30.997451Z"
    }
   },
   "outputs": [],
   "source": [
    "def fill_wei(data):\n",
    "    if data['Weight_in_gms']==0:\n",
    "        return pivot.loc[data['Customer_care_calls']]\n",
    "    else:\n",
    "        return data['Weight_in_gms']"
   ]
  },
  {
   "cell_type": "code",
   "execution_count": 26,
   "metadata": {
    "ExecuteTime": {
     "end_time": "2021-06-04T06:40:31.645858Z",
     "start_time": "2021-06-04T06:40:31.535791Z"
    }
   },
   "outputs": [],
   "source": [
    "train['Weight_in_gms'] = train.apply(fill_wei, axis=1).astype('int64')"
   ]
  },
  {
   "cell_type": "code",
   "execution_count": 27,
   "metadata": {
    "ExecuteTime": {
     "end_time": "2021-06-04T06:40:34.674239Z",
     "start_time": "2021-06-04T06:40:34.606991Z"
    }
   },
   "outputs": [],
   "source": [
    "test['Weight_in_gms'] = test.apply(fill_wei, axis=1).astype('int64')"
   ]
  },
  {
   "cell_type": "code",
   "execution_count": 28,
   "metadata": {
    "ExecuteTime": {
     "end_time": "2021-06-04T06:40:35.431758Z",
     "start_time": "2021-06-04T06:40:35.422808Z"
    }
   },
   "outputs": [],
   "source": [
    "# Discount_offered => 3531\n",
    "# 0 컬럼삭제"
   ]
  },
  {
   "cell_type": "code",
   "execution_count": 29,
   "metadata": {
    "ExecuteTime": {
     "end_time": "2021-06-04T06:40:35.602288Z",
     "start_time": "2021-06-04T06:40:35.599279Z"
    }
   },
   "outputs": [],
   "source": [
    "train['Cost_of_the_Product']=train['Cost_of_the_Product'].replace(9999,216)"
   ]
  },
  {
   "cell_type": "code",
   "execution_count": null,
   "metadata": {},
   "outputs": [],
   "source": []
  },
  {
   "cell_type": "code",
   "execution_count": 30,
   "metadata": {
    "ExecuteTime": {
     "end_time": "2021-06-04T06:40:35.788526Z",
     "start_time": "2021-06-04T06:40:35.783540Z"
    }
   },
   "outputs": [],
   "source": [
    "test['Cost_of_the_Product']=test['Cost_of_the_Product'].replace(9999,216)"
   ]
  },
  {
   "cell_type": "code",
   "execution_count": 31,
   "metadata": {
    "ExecuteTime": {
     "end_time": "2021-06-04T06:40:36.471866Z",
     "start_time": "2021-06-04T06:40:36.454884Z"
    }
   },
   "outputs": [],
   "source": [
    "del train['Discount_offered']\n",
    "del test['Discount_offered']"
   ]
  },
  {
   "cell_type": "code",
   "execution_count": 32,
   "metadata": {},
   "outputs": [
    {
     "data": {
      "text/plain": [
       "ID\n",
       "1       135\n",
       "2       225\n",
       "3       229\n",
       "4       228\n",
       "5       195\n",
       "       ... \n",
       "6995    232\n",
       "6996    228\n",
       "6997    300\n",
       "6998    232\n",
       "6999    262\n",
       "Name: Cost_of_the_Product, Length: 6999, dtype: int64"
      ]
     },
     "execution_count": 32,
     "metadata": {},
     "output_type": "execute_result"
    }
   ],
   "source": [
    "train['Cost_of_the_Product']"
   ]
  },
  {
   "cell_type": "code",
   "execution_count": 33,
   "metadata": {},
   "outputs": [
    {
     "name": "stdout",
     "output_type": "stream",
     "text": [
      "<class 'pandas.core.frame.DataFrame'>\n",
      "Int64Index: 6999 entries, 1 to 6999\n",
      "Data columns (total 10 columns):\n",
      " #   Column               Non-Null Count  Dtype  \n",
      "---  ------               --------------  -----  \n",
      " 0   Warehouse_block      6999 non-null   object \n",
      " 1   Mode_of_Shipment     6999 non-null   object \n",
      " 2   Customer_care_calls  6999 non-null   int64  \n",
      " 3   Customer_rating      6999 non-null   int64  \n",
      " 4   Cost_of_the_Product  6999 non-null   int64  \n",
      " 5   Prior_purchases      6999 non-null   float64\n",
      " 6   Product_importance   6999 non-null   object \n",
      " 7   Gender               6999 non-null   object \n",
      " 8   Weight_in_gms        6999 non-null   int64  \n",
      " 9   Reached.on.Time_Y.N  6999 non-null   int64  \n",
      "dtypes: float64(1), int64(5), object(4)\n",
      "memory usage: 601.5+ KB\n"
     ]
    }
   ],
   "source": [
    "train.info()"
   ]
  },
  {
   "cell_type": "code",
   "execution_count": null,
   "metadata": {},
   "outputs": [],
   "source": []
  },
  {
   "cell_type": "code",
   "execution_count": null,
   "metadata": {},
   "outputs": [],
   "source": []
  },
  {
   "cell_type": "code",
   "execution_count": null,
   "metadata": {},
   "outputs": [],
   "source": []
  },
  {
   "cell_type": "code",
   "execution_count": null,
   "metadata": {},
   "outputs": [],
   "source": []
  },
  {
   "cell_type": "code",
   "execution_count": null,
   "metadata": {},
   "outputs": [],
   "source": []
  },
  {
   "cell_type": "code",
   "execution_count": null,
   "metadata": {},
   "outputs": [],
   "source": []
  },
  {
   "cell_type": "code",
   "execution_count": null,
   "metadata": {},
   "outputs": [],
   "source": []
  },
  {
   "cell_type": "markdown",
   "metadata": {},
   "source": [
    "# 시각화"
   ]
  },
  {
   "cell_type": "code",
   "execution_count": 34,
   "metadata": {},
   "outputs": [
    {
     "data": {
      "image/png": "[encoded data removed]",
      "text/plain": [
       "<Figure size 1080x360 with 1 Axes>"
      ]
     },
     "metadata": {
      "needs_background": "light"
     },
     "output_type": "display_data"
    }
   ],
   "source": [
    "plt.figure (figsize =(15,5))\n",
    "\n",
    "sns.violinplot (data = train,\n",
    "                x= 'Gender',\n",
    "                y=  'Cost_of_the_Product',\n",
    "                hue ='Reached.on.Time_Y.N',\n",
    "                # True일 경우 두 그룹을 하나의 바이올린 형태로 나타내줌\n",
    "                split =True\n",
    "             );\n",
    "plt.grid()\n",
    "# 150~200의 돈을 지불한 사람들에 물건이 제 시간에 도착하지 못했다."
   ]
  },
  {
   "cell_type": "code",
   "execution_count": 35,
   "metadata": {},
   "outputs": [
    {
     "data": {
      "image/png": "[encoded data removed]",
      "text/plain": [
       "<Figure size 1080x360 with 1 Axes>"
      ]
     },
     "metadata": {
      "needs_background": "light"
     },
     "output_type": "display_data"
    }
   ],
   "source": [
    "plt.figure (figsize =(15,5))\n",
    "\n",
    "sns.violinplot (data = train,\n",
    "                x= 'Gender',\n",
    "                y= 'Weight_in_gms',\n",
    "                hue ='Reached.on.Time_Y.N',\n",
    "                # True일 경우 두 그룹을 하나의 바이올린 형태로 나타내줌\n",
    "                split =True\n",
    "             );\n",
    "plt.grid()\n",
    "# 2000부터 4000사이에 물건이 제 시간에 도착하지 못했다."
   ]
  },
  {
   "cell_type": "code",
   "execution_count": null,
   "metadata": {},
   "outputs": [],
   "source": []
  },
  {
   "cell_type": "code",
   "execution_count": null,
   "metadata": {},
   "outputs": [],
   "source": []
  },
  {
   "cell_type": "markdown",
   "metadata": {},
   "source": [
    "# 전처리"
   ]
  },
  {
   "cell_type": "code",
   "execution_count": null,
   "metadata": {},
   "outputs": [],
   "source": []
  },
  {
   "cell_type": "markdown",
   "metadata": {},
   "source": [
    "# train, test 데이터 분류"
   ]
  },
  {
   "cell_type": "code",
   "execution_count": 36,
   "metadata": {
    "ExecuteTime": {
     "end_time": "2021-06-04T06:40:05.331852Z",
     "start_time": "2021-06-04T06:40:04.023Z"
    }
   },
   "outputs": [],
   "source": [
    "X_train = train.loc[:,:'Weight_in_gms']\n",
    "y_train = train['Reached.on.Time_Y.N']\n",
    "X_test = test"
   ]
  },
  {
   "cell_type": "markdown",
   "metadata": {},
   "source": [
    "# 인코딩"
   ]
  },
  {
   "cell_type": "code",
   "execution_count": 37,
   "metadata": {},
   "outputs": [],
   "source": [
    "X_train = pd.get_dummies(X_train)\n",
    "X_test = pd.get_dummies(X_test)"
   ]
  },
  {
   "cell_type": "markdown",
   "metadata": {},
   "source": [
    "# 스케일링"
   ]
  },
  {
   "cell_type": "code",
   "execution_count": 38,
   "metadata": {
    "ExecuteTime": {
     "end_time": "2021-06-04T06:40:05.332849Z",
     "start_time": "2021-06-04T06:40:04.024Z"
    }
   },
   "outputs": [],
   "source": [
    "from sklearn.preprocessing import StandardScaler"
   ]
  },
  {
   "cell_type": "code",
   "execution_count": 39,
   "metadata": {
    "ExecuteTime": {
     "end_time": "2021-06-04T06:40:05.333846Z",
     "start_time": "2021-06-04T06:40:04.025Z"
    }
   },
   "outputs": [
    {
     "data": {
      "text/plain": [
       "StandardScaler()"
      ]
     },
     "execution_count": 39,
     "metadata": {},
     "output_type": "execute_result"
    }
   ],
   "source": [
    "scaler = StandardScaler()\n",
    "scaler.fit(X_train)"
   ]
  },
  {
   "cell_type": "code",
   "execution_count": 40,
   "metadata": {
    "ExecuteTime": {
     "end_time": "2021-06-04T06:40:05.333846Z",
     "start_time": "2021-06-04T06:40:04.026Z"
    }
   },
   "outputs": [],
   "source": [
    "X_train_Scaled = scaler.transform(X_train)\n",
    "X_test_Scaled = scaler.transform(X_test)"
   ]
  },
  {
   "cell_type": "code",
   "execution_count": null,
   "metadata": {
    "ExecuteTime": {
     "end_time": "2021-06-04T06:40:05.334844Z",
     "start_time": "2021-06-04T06:40:04.027Z"
    }
   },
   "outputs": [],
   "source": []
  },
  {
   "cell_type": "markdown",
   "metadata": {},
   "source": [
    "# 모델 선정 및 학습"
   ]
  },
  {
   "cell_type": "code",
   "execution_count": 41,
   "metadata": {
    "ExecuteTime": {
     "end_time": "2021-06-04T06:40:05.334844Z",
     "start_time": "2021-06-04T06:40:04.028Z"
    }
   },
   "outputs": [
    {
     "name": "stdout",
     "output_type": "stream",
     "text": [
      "Requirement already satisfied: lightgbm in c:\\users\\21smt40\\anaconda3\\lib\\site-packages (3.2.1)\n",
      "Requirement already satisfied: wheel in c:\\users\\21smt40\\anaconda3\\lib\\site-packages (from lightgbm) (0.35.1)\n",
      "Requirement already satisfied: scipy in c:\\users\\21smt40\\anaconda3\\lib\\site-packages (from lightgbm) (1.5.2)\n",
      "Requirement already satisfied: numpy in c:\\users\\21smt40\\anaconda3\\lib\\site-packages (from lightgbm) (1.19.2)\n",
      "Requirement already satisfied: scikit-learn!=0.22.0 in c:\\users\\21smt40\\anaconda3\\lib\\site-packages (from lightgbm) (0.23.2)\n",
      "Requirement already satisfied: threadpoolctl>=2.0.0 in c:\\users\\21smt40\\anaconda3\\lib\\site-packages (from scikit-learn!=0.22.0->lightgbm) (2.1.0)\n",
      "Requirement already satisfied: joblib>=0.11 in c:\\users\\21smt40\\anaconda3\\lib\\site-packages (from scikit-learn!=0.22.0->lightgbm) (0.17.0)\n"
     ]
    }
   ],
   "source": [
    "!pip install lightgbm"
   ]
  },
  {
   "cell_type": "code",
   "execution_count": 42,
   "metadata": {
    "ExecuteTime": {
     "end_time": "2021-06-04T06:40:05.335841Z",
     "start_time": "2021-06-04T06:40:04.029Z"
    }
   },
   "outputs": [
    {
     "name": "stdout",
     "output_type": "stream",
     "text": [
      "Requirement already satisfied: xgboost in c:\\users\\21smt40\\anaconda3\\lib\\site-packages (1.4.2)\n",
      "Requirement already satisfied: numpy in c:\\users\\21smt40\\anaconda3\\lib\\site-packages (from xgboost) (1.19.2)\n",
      "Requirement already satisfied: scipy in c:\\users\\21smt40\\anaconda3\\lib\\site-packages (from xgboost) (1.5.2)\n"
     ]
    }
   ],
   "source": [
    "!pip install xgboost"
   ]
  },
  {
   "cell_type": "code",
   "execution_count": 43,
   "metadata": {
    "ExecuteTime": {
     "end_time": "2021-06-04T06:40:05.335841Z",
     "start_time": "2021-06-04T06:40:04.030Z"
    }
   },
   "outputs": [],
   "source": [
    "from sklearn.model_selection import cross_val_score\n",
    "from sklearn.model_selection import KFold\n",
    "from sklearn.metrics import classification_report\n",
    "from sklearn.metrics import accuracy_score\n",
    "from lightgbm import LGBMClassifier\n",
    "from xgboost import XGBClassifier\n",
    "from sklearn.ensemble import RandomForestClassifier"
   ]
  },
  {
   "cell_type": "code",
   "execution_count": 44,
   "metadata": {
    "ExecuteTime": {
     "end_time": "2021-06-04T06:40:05.336838Z",
     "start_time": "2021-06-04T06:40:04.030Z"
    }
   },
   "outputs": [],
   "source": [
    "# cv파라미터에 사용할 kfold값 설정\n",
    "kfold = KFold(n_splits=10, random_state=123, shuffle=True)"
   ]
  },
  {
   "cell_type": "code",
   "execution_count": 45,
   "metadata": {
    "ExecuteTime": {
     "end_time": "2021-06-04T06:40:05.337836Z",
     "start_time": "2021-06-04T06:40:04.031Z"
    }
   },
   "outputs": [
    {
     "data": {
      "text/plain": [
       "LGBMClassifier(learning_rate=0.01, n_estimators=1000, random_state=123)"
      ]
     },
     "execution_count": 45,
     "metadata": {},
     "output_type": "execute_result"
    }
   ],
   "source": [
    "# lightgbm 모델\n",
    "lgbm_model = LGBMClassifier(n_estimators=1000, learning_rate=0.01, random_state=123)\n",
    "lgbm_model.fit(X_train_Scaled, y_train)"
   ]
  },
  {
   "cell_type": "code",
   "execution_count": 46,
   "metadata": {
    "ExecuteTime": {
     "end_time": "2021-06-04T06:40:05.337836Z",
     "start_time": "2021-06-04T06:40:04.032Z"
    }
   },
   "outputs": [
    {
     "name": "stdout",
     "output_type": "stream",
     "text": [
      "0.6518066625791947\n"
     ]
    }
   ],
   "source": [
    "# 정확도 교차검증\n",
    "acc_result = cross_val_score(lgbm_model,\n",
    "                            X_train_Scaled,\n",
    "                            y_train,\n",
    "                            cv=kfold\n",
    "                            )\n",
    "print(acc_result.mean())"
   ]
  },
  {
   "cell_type": "code",
   "execution_count": 47,
   "metadata": {
    "ExecuteTime": {
     "end_time": "2021-06-04T06:40:05.338833Z",
     "start_time": "2021-06-04T06:40:04.033Z"
    }
   },
   "outputs": [
    {
     "name": "stdout",
     "output_type": "stream",
     "text": [
      "0.6788372573034489\n"
     ]
    }
   ],
   "source": [
    "# f1스코어 교차검증\n",
    "f1_result = cross_val_score(lgbm_model,\n",
    "                           X_train_Scaled,\n",
    "                           y_train,\n",
    "                           cv=kfold,\n",
    "                           scoring='f1'\n",
    "                           )\n",
    "print(f1_result.mean())"
   ]
  },
  {
   "cell_type": "code",
   "execution_count": 48,
   "metadata": {
    "ExecuteTime": {
     "end_time": "2021-06-04T06:40:05.339829Z",
     "start_time": "2021-06-04T06:40:04.034Z"
    }
   },
   "outputs": [
    {
     "name": "stdout",
     "output_type": "stream",
     "text": [
      "[09:49:11] WARNING: C:/Users/Administrator/workspace/xgboost-win64_release_1.4.0/src/learner.cc:1095: Starting in XGBoost 1.3.0, the default evaluation metric used with the objective 'binary:logistic' was changed from 'error' to 'logloss'. Explicitly set eval_metric if you'd like to restore the old behavior.\n"
     ]
    },
    {
     "name": "stderr",
     "output_type": "stream",
     "text": [
      "C:\\Users\\21SMT40\\anaconda3\\lib\\site-packages\\xgboost\\sklearn.py:1146: UserWarning: The use of label encoder in XGBClassifier is deprecated and will be removed in a future release. To remove this warning, do the following: 1) Pass option use_label_encoder=False when constructing XGBClassifier object; and 2) Encode your labels (y) as integers starting with 0, i.e. 0, 1, 2, ..., [num_class - 1].\n",
      "  warnings.warn(label_encoder_deprecation_msg, UserWarning)\n"
     ]
    },
    {
     "data": {
      "text/plain": [
       "XGBClassifier(base_score=0.5, booster='gbtree', colsample_bylevel=1,\n",
       "              colsample_bynode=1, colsample_bytree=1, gamma=0, gpu_id=-1,\n",
       "              importance_type='gain', interaction_constraints='',\n",
       "              learning_rate=0.01, max_delta_step=0, max_depth=6,\n",
       "              min_child_weight=1, missing=nan, monotone_constraints='()',\n",
       "              n_estimators=100, n_jobs=16, num_parallel_tree=1,\n",
       "              random_state=123, reg_alpha=0, reg_lambda=1, scale_pos_weight=1,\n",
       "              subsample=1, tree_method='exact', validate_parameters=1,\n",
       "              verbosity=None)"
      ]
     },
     "execution_count": 48,
     "metadata": {},
     "output_type": "execute_result"
    }
   ],
   "source": [
    "# xgboost 모델\n",
    "xgb_model = XGBClassifier(n_estimators=100, learning_rate=0.01, random_state=123)\n",
    "xgb_model.fit(X_train_Scaled, y_train)"
   ]
  },
  {
   "cell_type": "code",
   "execution_count": 49,
   "metadata": {
    "ExecuteTime": {
     "end_time": "2021-06-04T06:40:05.339829Z",
     "start_time": "2021-06-04T06:40:04.035Z"
    }
   },
   "outputs": [
    {
     "name": "stdout",
     "output_type": "stream",
     "text": [
      "[09:49:12] WARNING: C:/Users/Administrator/workspace/xgboost-win64_release_1.4.0/src/learner.cc:1095: Starting in XGBoost 1.3.0, the default evaluation metric used with the objective 'binary:logistic' was changed from 'error' to 'logloss'. Explicitly set eval_metric if you'd like to restore the old behavior.\n",
      "[09:49:12] WARNING: C:/Users/Administrator/workspace/xgboost-win64_release_1.4.0/src/learner.cc:1095: Starting in XGBoost 1.3.0, the default evaluation metric used with the objective 'binary:logistic' was changed from 'error' to 'logloss'. Explicitly set eval_metric if you'd like to restore the old behavior.\n",
      "[09:49:12] WARNING: C:/Users/Administrator/workspace/xgboost-win64_release_1.4.0/src/learner.cc:1095: Starting in XGBoost 1.3.0, the default evaluation metric used with the objective 'binary:logistic' was changed from 'error' to 'logloss'. Explicitly set eval_metric if you'd like to restore the old behavior.\n",
      "[09:49:12] WARNING: C:/Users/Administrator/workspace/xgboost-win64_release_1.4.0/src/learner.cc:1095: Starting in XGBoost 1.3.0, the default evaluation metric used with the objective 'binary:logistic' was changed from 'error' to 'logloss'. Explicitly set eval_metric if you'd like to restore the old behavior.\n",
      "[09:49:13] WARNING: C:/Users/Administrator/workspace/xgboost-win64_release_1.4.0/src/learner.cc:1095: Starting in XGBoost 1.3.0, the default evaluation metric used with the objective 'binary:logistic' was changed from 'error' to 'logloss'. Explicitly set eval_metric if you'd like to restore the old behavior.\n",
      "[09:49:13] WARNING: C:/Users/Administrator/workspace/xgboost-win64_release_1.4.0/src/learner.cc:1095: Starting in XGBoost 1.3.0, the default evaluation metric used with the objective 'binary:logistic' was changed from 'error' to 'logloss'. Explicitly set eval_metric if you'd like to restore the old behavior.\n",
      "[09:49:13] WARNING: C:/Users/Administrator/workspace/xgboost-win64_release_1.4.0/src/learner.cc:1095: Starting in XGBoost 1.3.0, the default evaluation metric used with the objective 'binary:logistic' was changed from 'error' to 'logloss'. Explicitly set eval_metric if you'd like to restore the old behavior.\n",
      "[09:49:14] WARNING: C:/Users/Administrator/workspace/xgboost-win64_release_1.4.0/src/learner.cc:1095: Starting in XGBoost 1.3.0, the default evaluation metric used with the objective 'binary:logistic' was changed from 'error' to 'logloss'. Explicitly set eval_metric if you'd like to restore the old behavior.\n",
      "[09:49:14] WARNING: C:/Users/Administrator/workspace/xgboost-win64_release_1.4.0/src/learner.cc:1095: Starting in XGBoost 1.3.0, the default evaluation metric used with the objective 'binary:logistic' was changed from 'error' to 'logloss'. Explicitly set eval_metric if you'd like to restore the old behavior.\n",
      "[09:49:14] WARNING: C:/Users/Administrator/workspace/xgboost-win64_release_1.4.0/src/learner.cc:1095: Starting in XGBoost 1.3.0, the default evaluation metric used with the objective 'binary:logistic' was changed from 'error' to 'logloss'. Explicitly set eval_metric if you'd like to restore the old behavior.\n",
      "0.6692370733701206\n"
     ]
    }
   ],
   "source": [
    "# 정확도 교차검증\n",
    "acc_result = cross_val_score(xgb_model,\n",
    "                            X_train_Scaled,\n",
    "                            y_train,\n",
    "                            cv=kfold\n",
    "                            )\n",
    "print(acc_result.mean())"
   ]
  },
  {
   "cell_type": "code",
   "execution_count": 50,
   "metadata": {
    "ExecuteTime": {
     "end_time": "2021-06-04T06:40:05.340828Z",
     "start_time": "2021-06-04T06:40:04.035Z"
    }
   },
   "outputs": [
    {
     "name": "stdout",
     "output_type": "stream",
     "text": [
      "[09:49:14] WARNING: C:/Users/Administrator/workspace/xgboost-win64_release_1.4.0/src/learner.cc:1095: Starting in XGBoost 1.3.0, the default evaluation metric used with the objective 'binary:logistic' was changed from 'error' to 'logloss'. Explicitly set eval_metric if you'd like to restore the old behavior.\n",
      "[09:49:15] WARNING: C:/Users/Administrator/workspace/xgboost-win64_release_1.4.0/src/learner.cc:1095: Starting in XGBoost 1.3.0, the default evaluation metric used with the objective 'binary:logistic' was changed from 'error' to 'logloss'. Explicitly set eval_metric if you'd like to restore the old behavior.\n",
      "[09:49:15] WARNING: C:/Users/Administrator/workspace/xgboost-win64_release_1.4.0/src/learner.cc:1095: Starting in XGBoost 1.3.0, the default evaluation metric used with the objective 'binary:logistic' was changed from 'error' to 'logloss'. Explicitly set eval_metric if you'd like to restore the old behavior.\n",
      "[09:49:15] WARNING: C:/Users/Administrator/workspace/xgboost-win64_release_1.4.0/src/learner.cc:1095: Starting in XGBoost 1.3.0, the default evaluation metric used with the objective 'binary:logistic' was changed from 'error' to 'logloss'. Explicitly set eval_metric if you'd like to restore the old behavior.\n",
      "[09:49:16] WARNING: C:/Users/Administrator/workspace/xgboost-win64_release_1.4.0/src/learner.cc:1095: Starting in XGBoost 1.3.0, the default evaluation metric used with the objective 'binary:logistic' was changed from 'error' to 'logloss'. Explicitly set eval_metric if you'd like to restore the old behavior.\n",
      "[09:49:16] WARNING: C:/Users/Administrator/workspace/xgboost-win64_release_1.4.0/src/learner.cc:1095: Starting in XGBoost 1.3.0, the default evaluation metric used with the objective 'binary:logistic' was changed from 'error' to 'logloss'. Explicitly set eval_metric if you'd like to restore the old behavior.\n",
      "[09:49:16] WARNING: C:/Users/Administrator/workspace/xgboost-win64_release_1.4.0/src/learner.cc:1095: Starting in XGBoost 1.3.0, the default evaluation metric used with the objective 'binary:logistic' was changed from 'error' to 'logloss'. Explicitly set eval_metric if you'd like to restore the old behavior.\n",
      "[09:49:16] WARNING: C:/Users/Administrator/workspace/xgboost-win64_release_1.4.0/src/learner.cc:1095: Starting in XGBoost 1.3.0, the default evaluation metric used with the objective 'binary:logistic' was changed from 'error' to 'logloss'. Explicitly set eval_metric if you'd like to restore the old behavior.\n",
      "[09:49:17] WARNING: C:/Users/Administrator/workspace/xgboost-win64_release_1.4.0/src/learner.cc:1095: Starting in XGBoost 1.3.0, the default evaluation metric used with the objective 'binary:logistic' was changed from 'error' to 'logloss'. Explicitly set eval_metric if you'd like to restore the old behavior.\n",
      "[09:49:17] WARNING: C:/Users/Administrator/workspace/xgboost-win64_release_1.4.0/src/learner.cc:1095: Starting in XGBoost 1.3.0, the default evaluation metric used with the objective 'binary:logistic' was changed from 'error' to 'logloss'. Explicitly set eval_metric if you'd like to restore the old behavior.\n",
      "0.6680049020504735\n"
     ]
    }
   ],
   "source": [
    "# f1스코어 교차검증\n",
    "f1_result = cross_val_score(xgb_model,\n",
    "                           X_train_Scaled,\n",
    "                           y_train,\n",
    "                           cv=kfold,\n",
    "                           scoring='f1'\n",
    "                           )\n",
    "print(f1_result.mean())"
   ]
  },
  {
   "cell_type": "code",
   "execution_count": 51,
   "metadata": {
    "ExecuteTime": {
     "end_time": "2021-06-04T06:40:05.341824Z",
     "start_time": "2021-06-04T06:40:04.036Z"
    }
   },
   "outputs": [],
   "source": [
    "# randomforest 모델"
   ]
  },
  {
   "cell_type": "code",
   "execution_count": 52,
   "metadata": {
    "ExecuteTime": {
     "end_time": "2021-06-04T06:40:05.341824Z",
     "start_time": "2021-06-04T06:40:04.037Z"
    }
   },
   "outputs": [
    {
     "data": {
      "text/plain": [
       "array([[-0.58111355, -0.70655499, -1.5566352 , ..., -0.86184621,\n",
       "        -0.997289  ,  0.997289  ],\n",
       "       [ 0.94600049,  0.00263451,  0.30993669, ..., -0.86184621,\n",
       "         1.00271837, -1.00271837],\n",
       "       [-0.07207554, -1.41574448,  0.39289544, ..., -0.86184621,\n",
       "        -0.997289  ,  0.997289  ],\n",
       "       ...,\n",
       "       [-1.59918958, -1.41574448,  1.86541326, ..., -0.86184621,\n",
       "         1.00271837, -1.00271837],\n",
       "       [-0.07207554, -1.41574448,  0.4551145 , ...,  1.16029982,\n",
       "        -0.997289  ,  0.997289  ],\n",
       "       [-0.07207554,  0.00263451,  1.07730513, ..., -0.86184621,\n",
       "         1.00271837, -1.00271837]])"
      ]
     },
     "execution_count": 52,
     "metadata": {},
     "output_type": "execute_result"
    }
   ],
   "source": [
    "X_train_Scaled"
   ]
  },
  {
   "cell_type": "code",
   "execution_count": 53,
   "metadata": {
    "ExecuteTime": {
     "end_time": "2021-06-04T06:40:05.342822Z",
     "start_time": "2021-06-04T06:40:04.038Z"
    }
   },
   "outputs": [
    {
     "data": {
      "text/plain": [
       "RandomForestClassifier(random_state=11)"
      ]
     },
     "execution_count": 53,
     "metadata": {},
     "output_type": "execute_result"
    }
   ],
   "source": [
    "rf_model = RandomForestClassifier(n_estimators=100, random_state=11)\n",
    "rf_model.fit(X_train_Scaled, y_train)"
   ]
  },
  {
   "cell_type": "code",
   "execution_count": 54,
   "metadata": {
    "ExecuteTime": {
     "end_time": "2021-06-04T06:40:05.342822Z",
     "start_time": "2021-06-04T06:40:04.039Z"
    }
   },
   "outputs": [
    {
     "name": "stdout",
     "output_type": "stream",
     "text": [
      "0.6383778867770283\n"
     ]
    }
   ],
   "source": [
    "# 정확도 교차검증\n",
    "acc_result = cross_val_score(rf_model,\n",
    "                            X_train_Scaled,\n",
    "                            y_train,\n",
    "                            cv=kfold\n",
    "                            )\n",
    "print(acc_result.mean())"
   ]
  },
  {
   "cell_type": "code",
   "execution_count": 55,
   "metadata": {
    "ExecuteTime": {
     "end_time": "2021-06-04T06:40:05.343819Z",
     "start_time": "2021-06-04T06:40:04.040Z"
    }
   },
   "outputs": [
    {
     "name": "stdout",
     "output_type": "stream",
     "text": [
      "0.6879819426827598\n"
     ]
    }
   ],
   "source": [
    "# f1스코어 교차검증\n",
    "f1_result = cross_val_score(rf_model,\n",
    "                           X_train_Scaled,\n",
    "                           y_train,\n",
    "                           cv=kfold,\n",
    "                           scoring='f1'\n",
    "                           )\n",
    "print(f1_result.mean())"
   ]
  },
  {
   "cell_type": "code",
   "execution_count": 56,
   "metadata": {
    "ExecuteTime": {
     "end_time": "2021-06-04T06:40:05.343819Z",
     "start_time": "2021-06-04T06:40:04.041Z"
    }
   },
   "outputs": [],
   "source": [
    "pre_lgbm=lgbm_model.predict(X_test_Scaled)"
   ]
  },
  {
   "cell_type": "code",
   "execution_count": 57,
   "metadata": {
    "ExecuteTime": {
     "end_time": "2021-06-04T06:40:05.344816Z",
     "start_time": "2021-06-04T06:40:04.042Z"
    }
   },
   "outputs": [],
   "source": [
    "pre_xgb=xgb_model.predict(X_test_Scaled)"
   ]
  },
  {
   "cell_type": "code",
   "execution_count": 58,
   "metadata": {
    "ExecuteTime": {
     "end_time": "2021-06-04T06:40:05.345814Z",
     "start_time": "2021-06-04T06:40:04.042Z"
    }
   },
   "outputs": [],
   "source": [
    "pre_rf=rf_model.predict(X_test_Scaled)"
   ]
  },
  {
   "cell_type": "code",
   "execution_count": 59,
   "metadata": {
    "ExecuteTime": {
     "end_time": "2021-06-04T06:40:05.345814Z",
     "start_time": "2021-06-04T06:40:04.043Z"
    }
   },
   "outputs": [],
   "source": [
    "result_submission = pd.read_csv('data/sampleSubmission.csv')"
   ]
  },
  {
   "cell_type": "code",
   "execution_count": 60,
   "metadata": {
    "ExecuteTime": {
     "end_time": "2021-06-04T06:40:05.346812Z",
     "start_time": "2021-06-04T06:40:04.044Z"
    }
   },
   "outputs": [],
   "source": [
    "result_submission['Reached.on.Time_Y.N'] = pre_xgb\n",
    "result_submission.to_csv('submission_xgb.csv', index=False)"
   ]
  },
  {
   "cell_type": "code",
   "execution_count": 61,
   "metadata": {
    "ExecuteTime": {
     "end_time": "2021-06-04T06:40:05.347809Z",
     "start_time": "2021-06-04T06:40:04.045Z"
    }
   },
   "outputs": [],
   "source": [
    "result_submission['Reached.on.Time_Y.N'] = pre_lgbm\n",
    "result_submission.to_csv('submission_lgbm.csv', index=False)"
   ]
  },
  {
   "cell_type": "code",
   "execution_count": 62,
   "metadata": {
    "ExecuteTime": {
     "end_time": "2021-06-04T06:40:05.347809Z",
     "start_time": "2021-06-04T06:40:04.046Z"
    }
   },
   "outputs": [],
   "source": [
    "result_submission['Reached.on.Time_Y.N'] = pre_rf\n",
    "result_submission.to_csv('submission_rf.csv', index=False)"
   ]
  },
  {
   "cell_type": "code",
   "execution_count": 63,
   "metadata": {},
   "outputs": [
    {
     "name": "stdout",
     "output_type": "stream",
     "text": [
      "<class 'pandas.core.frame.DataFrame'>\n",
      "Int64Index: 6999 entries, 1 to 6999\n",
      "Data columns (total 10 columns):\n",
      " #   Column               Non-Null Count  Dtype  \n",
      "---  ------               --------------  -----  \n",
      " 0   Warehouse_block      6999 non-null   object \n",
      " 1   Mode_of_Shipment     6999 non-null   object \n",
      " 2   Customer_care_calls  6999 non-null   int64  \n",
      " 3   Customer_rating      6999 non-null   int64  \n",
      " 4   Cost_of_the_Product  6999 non-null   int64  \n",
      " 5   Prior_purchases      6999 non-null   float64\n",
      " 6   Product_importance   6999 non-null   object \n",
      " 7   Gender               6999 non-null   object \n",
      " 8   Weight_in_gms        6999 non-null   int64  \n",
      " 9   Reached.on.Time_Y.N  6999 non-null   int64  \n",
      "dtypes: float64(1), int64(5), object(4)\n",
      "memory usage: 921.5+ KB\n"
     ]
    }
   ],
   "source": [
    "train.info()"
   ]
  },
  {
   "cell_type": "code",
   "execution_count": 64,
   "metadata": {},
   "outputs": [
    {
     "name": "stdout",
     "output_type": "stream",
     "text": [
      "<class 'pandas.core.frame.DataFrame'>\n",
      "Int64Index: 4000 entries, 7000 to 10999\n",
      "Data columns (total 9 columns):\n",
      " #   Column               Non-Null Count  Dtype  \n",
      "---  ------               --------------  -----  \n",
      " 0   Warehouse_block      4000 non-null   object \n",
      " 1   Mode_of_Shipment     4000 non-null   object \n",
      " 2   Customer_care_calls  4000 non-null   int64  \n",
      " 3   Customer_rating      4000 non-null   int64  \n",
      " 4   Cost_of_the_Product  4000 non-null   int64  \n",
      " 5   Prior_purchases      4000 non-null   float64\n",
      " 6   Product_importance   4000 non-null   object \n",
      " 7   Gender               4000 non-null   object \n",
      " 8   Weight_in_gms        4000 non-null   int64  \n",
      "dtypes: float64(1), int64(4), object(4)\n",
      "memory usage: 312.5+ KB\n"
     ]
    }
   ],
   "source": [
    "test.info()"
   ]
  },
  {
   "cell_type": "code",
   "execution_count": null,
   "metadata": {},
   "outputs": [],
   "source": []
  }
 ],
 "metadata": {
  "kernelspec": {
   "display_name": "Python 3",
   "language": "python",
   "name": "python3"
  },
  "language_info": {
   "codemirror_mode": {
    "name": "ipython",
    "version": 3
   },
   "file_extension": ".py",
   "mimetype": "text/x-python",
   "name": "python",
   "nbconvert_exporter": "python",
   "pygments_lexer": "ipython3",
   "version": "3.8.5"
  },
  "toc": {
   "base_numbering": 1,
   "nav_menu": {},
   "number_sections": true,
   "sideBar": true,
   "skip_h1_title": false,
   "title_cell": "Table of Contents",
   "title_sidebar": "Contents",
   "toc_cell": false,
   "toc_position": {},
   "toc_section_display": true,
   "toc_window_display": false
  }
 },
 "nbformat": 4,
 "nbformat_minor": 4
}

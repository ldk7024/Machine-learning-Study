{
 "cells": [
  {
   "cell_type": "code",
   "execution_count": 78,
   "metadata": {
    "ExecuteTime": {
     "end_time": "2021-06-04T06:40:04.729843Z",
     "start_time": "2021-06-04T06:40:03.994710Z"
    }
   },
   "outputs": [],
   "source": [
    "import pandas as pd\n",
    "import numpy as np\n",
    "import matplotlib.pyplot as plt\n",
    "import seaborn as sns"
   ]
  },
  {
   "cell_type": "markdown",
   "metadata": {},
   "source": [
    "# 데이터 불러오기"
   ]
  },
  {
   "cell_type": "code",
   "execution_count": 79,
   "metadata": {
    "ExecuteTime": {
     "end_time": "2021-06-04T06:40:04.760787Z",
     "start_time": "2021-06-04T06:40:04.730812Z"
    }
   },
   "outputs": [],
   "source": [
    "train = pd.read_csv('data/train.csv', index_col='ID')\n",
    "test = pd.read_csv('data/test.csv', index_col='ID')"
   ]
  },
  {
   "cell_type": "markdown",
   "metadata": {},
   "source": [
    "# 이상치, 결측치 제거"
   ]
  },
  {
   "cell_type": "code",
   "execution_count": 80,
   "metadata": {
    "ExecuteTime": {
     "end_time": "2021-06-04T06:40:04.776775Z",
     "start_time": "2021-06-04T06:40:04.761755Z"
    }
   },
   "outputs": [],
   "source": [
    "# 공백문자가 포함된 컬럼 warehouse_block 수정\n",
    "train = train.rename(columns = {'Warehouse_block ': 'Warehouse_block'})\n",
    "test = test.rename(columns = {'Warehouse_block ': 'Warehouse_block'})"
   ]
  },
  {
   "cell_type": "code",
   "execution_count": 81,
   "metadata": {
    "ExecuteTime": {
     "end_time": "2021-06-04T06:40:04.792619Z",
     "start_time": "2021-06-04T06:40:04.777773Z"
    }
   },
   "outputs": [],
   "source": [
    "train['Mode_of_Shipment']=train['Mode_of_Shipment'].replace(' Shipzk', 'Ship')\n",
    "train['Mode_of_Shipment']=train['Mode_of_Shipment'].replace(' Flightzk', 'Flight')\n",
    "train['Mode_of_Shipment']=train['Mode_of_Shipment'].replace(' Roadzk', 'Road')\n",
    "train['Mode_of_Shipment']=train['Mode_of_Shipment'].replace(' Ship', 'Ship')\n",
    "train['Mode_of_Shipment']=train['Mode_of_Shipment'].replace(' Flight', 'Flight')\n",
    "train['Mode_of_Shipment']=train['Mode_of_Shipment'].replace(' Road', 'Road')"
   ]
  },
  {
   "cell_type": "code",
   "execution_count": 82,
   "metadata": {
    "ExecuteTime": {
     "end_time": "2021-06-04T06:40:04.808543Z",
     "start_time": "2021-06-04T06:40:04.793283Z"
    }
   },
   "outputs": [],
   "source": [
    "test['Mode_of_Shipment']=test['Mode_of_Shipment'].replace(' Shipzk', 'Ship')\n",
    "test['Mode_of_Shipment']=test['Mode_of_Shipment'].replace(' Flightzk', 'Flight')\n",
    "test['Mode_of_Shipment']=test['Mode_of_Shipment'].replace(' Roadzk', 'Road')\n",
    "test['Mode_of_Shipment']=test['Mode_of_Shipment'].replace(' Ship', 'Ship')\n",
    "test['Mode_of_Shipment']=test['Mode_of_Shipment'].replace(' Flight', 'Flight')\n",
    "test['Mode_of_Shipment']=test['Mode_of_Shipment'].replace(' Road', 'Road')"
   ]
  },
  {
   "cell_type": "code",
   "execution_count": 83,
   "metadata": {
    "ExecuteTime": {
     "end_time": "2021-06-04T06:40:04.824262Z",
     "start_time": "2021-06-04T06:40:04.809535Z"
    }
   },
   "outputs": [],
   "source": [
    "train['Customer_rating']=train['Customer_rating'].replace(99, 3)"
   ]
  },
  {
   "cell_type": "code",
   "execution_count": 84,
   "metadata": {
    "ExecuteTime": {
     "end_time": "2021-06-04T06:40:04.839951Z",
     "start_time": "2021-06-04T06:40:04.825261Z"
    }
   },
   "outputs": [],
   "source": [
    "test['Customer_rating']=test['Customer_rating'].replace(99, 3)"
   ]
  },
  {
   "cell_type": "code",
   "execution_count": 85,
   "metadata": {
    "ExecuteTime": {
     "end_time": "2021-06-04T06:40:04.855459Z",
     "start_time": "2021-06-04T06:40:04.841916Z"
    }
   },
   "outputs": [],
   "source": [
    "train['Product_importance'] = train['Product_importance'].replace('mediumm', 'medium')\n",
    "train['Product_importance'] = train['Product_importance'].replace('loww', 'low')\n",
    "train['Product_importance'] = train['Product_importance'].replace('highh', 'high')"
   ]
  },
  {
   "cell_type": "code",
   "execution_count": 86,
   "metadata": {
    "ExecuteTime": {
     "end_time": "2021-06-04T06:40:04.870394Z",
     "start_time": "2021-06-04T06:40:04.856431Z"
    }
   },
   "outputs": [],
   "source": [
    "test['Product_importance'] = test['Product_importance'].replace('mediumm', 'medium')\n",
    "test['Product_importance'] = test['Product_importance'].replace('loww', 'low')\n",
    "test['Product_importance'] = test['Product_importance'].replace('highh', 'high')"
   ]
  },
  {
   "cell_type": "code",
   "execution_count": 87,
   "metadata": {
    "ExecuteTime": {
     "end_time": "2021-06-04T06:40:04.885373Z",
     "start_time": "2021-06-04T06:40:04.871392Z"
    }
   },
   "outputs": [],
   "source": [
    "# 그대로 사용"
   ]
  },
  {
   "cell_type": "code",
   "execution_count": 88,
   "metadata": {
    "ExecuteTime": {
     "end_time": "2021-06-04T06:40:04.901331Z",
     "start_time": "2021-06-04T06:40:04.886371Z"
    }
   },
   "outputs": [],
   "source": [
    "# 최빈값에 ? 대입\n",
    "train['Product_importance'] = train['Product_importance'].replace('?','low')\n",
    "test['Product_importance'] = test['Product_importance'].replace('?','low')"
   ]
  },
  {
   "cell_type": "code",
   "execution_count": 89,
   "metadata": {
    "ExecuteTime": {
     "end_time": "2021-06-04T06:40:04.916291Z",
     "start_time": "2021-06-04T06:40:04.902329Z"
    }
   },
   "outputs": [],
   "source": [
    "# customer_care_calls => 1576"
   ]
  },
  {
   "cell_type": "code",
   "execution_count": 90,
   "metadata": {
    "ExecuteTime": {
     "end_time": "2021-06-04T06:40:04.932248Z",
     "start_time": "2021-06-04T06:40:04.917288Z"
    }
   },
   "outputs": [],
   "source": [
    "train['Customer_care_calls']=train['Customer_care_calls'].fillna(0)\n",
    "test['Customer_care_calls']=test['Customer_care_calls'].fillna(0)"
   ]
  },
  {
   "cell_type": "code",
   "execution_count": 91,
   "metadata": {
    "ExecuteTime": {
     "end_time": "2021-06-04T06:40:04.948206Z",
     "start_time": "2021-06-04T06:40:04.933245Z"
    }
   },
   "outputs": [],
   "source": [
    "train['Customer_care_calls']=train['Customer_care_calls'].astype('int64')\n",
    "test['Customer_care_calls']=test['Customer_care_calls'].astype('int64')"
   ]
  },
  {
   "cell_type": "code",
   "execution_count": 92,
   "metadata": {
    "ExecuteTime": {
     "end_time": "2021-06-04T06:40:04.964234Z",
     "start_time": "2021-06-04T06:40:04.949204Z"
    }
   },
   "outputs": [],
   "source": [
    "# prior_purchases => 950 "
   ]
  },
  {
   "cell_type": "code",
   "execution_count": 93,
   "metadata": {
    "ExecuteTime": {
     "end_time": "2021-06-04T06:40:04.980192Z",
     "start_time": "2021-06-04T06:40:04.965203Z"
    }
   },
   "outputs": [],
   "source": [
    "train['Prior_purchases']=train['Prior_purchases'].fillna(0)\n",
    "test['Prior_purchases']=test['Prior_purchases'].fillna(0)"
   ]
  },
  {
   "cell_type": "code",
   "execution_count": 94,
   "metadata": {
    "ExecuteTime": {
     "end_time": "2021-06-04T06:40:04.996120Z",
     "start_time": "2021-06-04T06:40:04.981162Z"
    }
   },
   "outputs": [],
   "source": [
    "#고유한 값으로 사용?"
   ]
  },
  {
   "cell_type": "code",
   "execution_count": 95,
   "metadata": {
    "ExecuteTime": {
     "end_time": "2021-06-04T06:40:05.012077Z",
     "start_time": "2021-06-04T06:40:04.997117Z"
    }
   },
   "outputs": [],
   "source": [
    "mask = train['Weight_in_gms'].isin(['?'])\n",
    "del_wei_question=train[~mask]"
   ]
  },
  {
   "cell_type": "code",
   "execution_count": null,
   "metadata": {},
   "outputs": [],
   "source": []
  },
  {
   "cell_type": "code",
   "execution_count": 96,
   "metadata": {
    "ExecuteTime": {
     "end_time": "2021-06-04T06:40:05.028034Z",
     "start_time": "2021-06-04T06:40:05.013075Z"
    }
   },
   "outputs": [
    {
     "name": "stderr",
     "output_type": "stream",
     "text": [
      "<ipython-input-96-9102d6bf3727>:1: SettingWithCopyWarning: \n",
      "A value is trying to be set on a copy of a slice from a DataFrame.\n",
      "Try using .loc[row_indexer,col_indexer] = value instead\n",
      "\n",
      "See the caveats in the documentation: https://pandas.pydata.org/pandas-docs/stable/user_guide/indexing.html#returning-a-view-versus-a-copy\n",
      "  del_wei_question['Weight_in_gms']=del_wei_question['Weight_in_gms'].astype('int64')\n"
     ]
    }
   ],
   "source": [
    "del_wei_question['Weight_in_gms']=del_wei_question['Weight_in_gms'].astype('int64')"
   ]
  },
  {
   "cell_type": "code",
   "execution_count": 97,
   "metadata": {
    "ExecuteTime": {
     "end_time": "2021-06-04T06:40:05.044021Z",
     "start_time": "2021-06-04T06:40:05.029033Z"
    }
   },
   "outputs": [],
   "source": [
    "pivot = del_wei_question.pivot_table(values='Weight_in_gms',\n",
    "                         index=['Customer_care_calls'],\n",
    "                         aggfunc='mean'\n",
    "                         )\n",
    "pivot['Weight_in_gms']=pivot['Weight_in_gms'].astype('int64')"
   ]
  },
  {
   "cell_type": "code",
   "execution_count": 98,
   "metadata": {
    "ExecuteTime": {
     "end_time": "2021-06-04T06:40:05.059949Z",
     "start_time": "2021-06-04T06:40:05.044991Z"
    }
   },
   "outputs": [],
   "source": [
    "train['Weight_in_gms']=train['Weight_in_gms'].replace('?', '0')"
   ]
  },
  {
   "cell_type": "code",
   "execution_count": 99,
   "metadata": {
    "ExecuteTime": {
     "end_time": "2021-06-04T06:40:05.075907Z",
     "start_time": "2021-06-04T06:40:05.060946Z"
    }
   },
   "outputs": [],
   "source": [
    "test['Weight_in_gms']=test['Weight_in_gms'].replace('?', '0')"
   ]
  },
  {
   "cell_type": "code",
   "execution_count": 100,
   "metadata": {
    "ExecuteTime": {
     "end_time": "2021-06-04T06:40:05.091864Z",
     "start_time": "2021-06-04T06:40:05.078898Z"
    }
   },
   "outputs": [],
   "source": [
    "train['Weight_in_gms']=train['Weight_in_gms'].astype('int64')"
   ]
  },
  {
   "cell_type": "code",
   "execution_count": 101,
   "metadata": {
    "ExecuteTime": {
     "end_time": "2021-06-04T06:40:05.107850Z",
     "start_time": "2021-06-04T06:40:05.092861Z"
    }
   },
   "outputs": [],
   "source": [
    "test['Weight_in_gms']=test['Weight_in_gms'].astype('int64')"
   ]
  },
  {
   "cell_type": "code",
   "execution_count": 102,
   "metadata": {
    "ExecuteTime": {
     "end_time": "2021-06-04T06:40:31.013073Z",
     "start_time": "2021-06-04T06:40:30.997451Z"
    }
   },
   "outputs": [],
   "source": [
    "def fill_wei(data):\n",
    "    if data['Weight_in_gms']==0:\n",
    "        return pivot.loc[data['Customer_care_calls']]\n",
    "    else:\n",
    "        return data['Weight_in_gms']"
   ]
  },
  {
   "cell_type": "code",
   "execution_count": 103,
   "metadata": {
    "ExecuteTime": {
     "end_time": "2021-06-04T06:40:31.645858Z",
     "start_time": "2021-06-04T06:40:31.535791Z"
    }
   },
   "outputs": [],
   "source": [
    "train['Weight_in_gms'] = train.apply(fill_wei, axis=1).astype('int64')"
   ]
  },
  {
   "cell_type": "code",
   "execution_count": 104,
   "metadata": {
    "ExecuteTime": {
     "end_time": "2021-06-04T06:40:34.674239Z",
     "start_time": "2021-06-04T06:40:34.606991Z"
    }
   },
   "outputs": [],
   "source": [
    "test['Weight_in_gms'] = test.apply(fill_wei, axis=1).astype('int64')"
   ]
  },
  {
   "cell_type": "code",
   "execution_count": 105,
   "metadata": {
    "ExecuteTime": {
     "end_time": "2021-06-04T06:40:35.431758Z",
     "start_time": "2021-06-04T06:40:35.422808Z"
    }
   },
   "outputs": [],
   "source": [
    "# Discount_offered => 3531\n",
    "# 0 컬럼삭제"
   ]
  },
  {
   "cell_type": "code",
   "execution_count": 106,
   "metadata": {
    "ExecuteTime": {
     "end_time": "2021-06-04T06:40:35.602288Z",
     "start_time": "2021-06-04T06:40:35.599279Z"
    }
   },
   "outputs": [],
   "source": [
    "train['Cost_of_the_Product']=train['Cost_of_the_Product'].replace(9999,216)"
   ]
  },
  {
   "cell_type": "code",
   "execution_count": 107,
   "metadata": {
    "ExecuteTime": {
     "end_time": "2021-06-04T06:40:35.788526Z",
     "start_time": "2021-06-04T06:40:35.783540Z"
    }
   },
   "outputs": [],
   "source": [
    "test['Cost_of_the_Product']=test['Cost_of_the_Product'].replace(9999,216)"
   ]
  },
  {
   "cell_type": "code",
   "execution_count": 108,
   "metadata": {
    "ExecuteTime": {
     "end_time": "2021-06-04T06:40:36.471866Z",
     "start_time": "2021-06-04T06:40:36.454884Z"
    }
   },
   "outputs": [],
   "source": [
    "del train['Discount_offered']\n",
    "del test['Discount_offered']`"
   ]
  },
  {
   "cell_type": "code",
   "execution_count": 176,
   "metadata": {},
   "outputs": [
    {
     "data": {
      "text/plain": [
       "array(['M', 'F'], dtype=object)"
      ]
     },
     "execution_count": 176,
     "metadata": {},
     "output_type": "execute_result"
    }
   ],
   "source": [
    "train['Gender'].unique()"
   ]
  },
  {
   "cell_type": "markdown",
   "metadata": {},
   "source": [
    "# 시각화"
   ]
  },
  {
   "cell_type": "markdown",
   "metadata": {},
   "source": [
    "# 전처리"
   ]
  },
  {
   "cell_type": "markdown",
   "metadata": {},
   "source": [
    "## 원핫 인코딩\n"
   ]
  },
  {
   "cell_type": "code",
   "execution_count": 109,
   "metadata": {},
   "outputs": [],
   "source": [
    "# 임 포 트\n",
    "from sklearn.preprocessing import OneHotEncoder"
   ]
  },
  {
   "cell_type": "code",
   "execution_count": 110,
   "metadata": {},
   "outputs": [
    {
     "name": "stdout",
     "output_type": "stream",
     "text": [
      "<class 'pandas.core.frame.DataFrame'>\n",
      "Int64Index: 6999 entries, 1 to 6999\n",
      "Data columns (total 20 columns):\n",
      " #   Column                     Non-Null Count  Dtype  \n",
      "---  ------                     --------------  -----  \n",
      " 0   Customer_care_calls        6999 non-null   int64  \n",
      " 1   Customer_rating            6999 non-null   int64  \n",
      " 2   Cost_of_the_Product        6999 non-null   int64  \n",
      " 3   Prior_purchases            6999 non-null   float64\n",
      " 4   Weight_in_gms              6999 non-null   int64  \n",
      " 5   Reached.on.Time_Y.N        6999 non-null   int64  \n",
      " 6   Warehouse_block_A          6999 non-null   uint8  \n",
      " 7   Warehouse_block_B          6999 non-null   uint8  \n",
      " 8   Warehouse_block_C          6999 non-null   uint8  \n",
      " 9   Warehouse_block_D          6999 non-null   uint8  \n",
      " 10  Warehouse_block_F          6999 non-null   uint8  \n",
      " 11  Mode_of_Shipment_?         6999 non-null   uint8  \n",
      " 12  Mode_of_Shipment_Flight    6999 non-null   uint8  \n",
      " 13  Mode_of_Shipment_Road      6999 non-null   uint8  \n",
      " 14  Mode_of_Shipment_Ship      6999 non-null   uint8  \n",
      " 15  Product_importance_high    6999 non-null   uint8  \n",
      " 16  Product_importance_low     6999 non-null   uint8  \n",
      " 17  Product_importance_medium  6999 non-null   uint8  \n",
      " 18  Gender_F                   6999 non-null   uint8  \n",
      " 19  Gender_M                   6999 non-null   uint8  \n",
      "dtypes: float64(1), int64(5), uint8(14)\n",
      "memory usage: 478.4 KB\n"
     ]
    }
   ],
   "source": [
    "# dummies 더미 컴럼을 만들어줌 원래 컴럼속의 유니크 값 만큼 나옴\n",
    "x_one_hot=pd.get_dummies(train)\n",
    "x_one_hot.info()"
   ]
  },
  {
   "cell_type": "code",
   "execution_count": 111,
   "metadata": {},
   "outputs": [
    {
     "name": "stdout",
     "output_type": "stream",
     "text": [
      "<class 'pandas.core.frame.DataFrame'>\n",
      "Int64Index: 4000 entries, 7000 to 10999\n",
      "Data columns (total 19 columns):\n",
      " #   Column                     Non-Null Count  Dtype  \n",
      "---  ------                     --------------  -----  \n",
      " 0   Customer_care_calls        4000 non-null   int64  \n",
      " 1   Customer_rating            4000 non-null   int64  \n",
      " 2   Cost_of_the_Product        4000 non-null   int64  \n",
      " 3   Prior_purchases            4000 non-null   float64\n",
      " 4   Weight_in_gms              4000 non-null   int64  \n",
      " 5   Warehouse_block_A          4000 non-null   uint8  \n",
      " 6   Warehouse_block_B          4000 non-null   uint8  \n",
      " 7   Warehouse_block_C          4000 non-null   uint8  \n",
      " 8   Warehouse_block_D          4000 non-null   uint8  \n",
      " 9   Warehouse_block_F          4000 non-null   uint8  \n",
      " 10  Mode_of_Shipment_?         4000 non-null   uint8  \n",
      " 11  Mode_of_Shipment_Flight    4000 non-null   uint8  \n",
      " 12  Mode_of_Shipment_Road      4000 non-null   uint8  \n",
      " 13  Mode_of_Shipment_Ship      4000 non-null   uint8  \n",
      " 14  Product_importance_high    4000 non-null   uint8  \n",
      " 15  Product_importance_low     4000 non-null   uint8  \n",
      " 16  Product_importance_medium  4000 non-null   uint8  \n",
      " 17  Gender_F                   4000 non-null   uint8  \n",
      " 18  Gender_M                   4000 non-null   uint8  \n",
      "dtypes: float64(1), int64(4), uint8(14)\n",
      "memory usage: 242.2 KB\n"
     ]
    }
   ],
   "source": [
    "# dummies 더미 컴럼을 만들어줌 원래 컴럼속의 유니크 값 만큼 나옴\n",
    "x_one_hot1=pd.get_dummies(test)\n",
    "x_one_hot1.info()"
   ]
  },
  {
   "cell_type": "code",
   "execution_count": 112,
   "metadata": {},
   "outputs": [],
   "source": [
    "# 전체 행 보기\n",
    "pd.set_option('display.max_rows', None)"
   ]
  },
  {
   "cell_type": "code",
   "execution_count": 113,
   "metadata": {},
   "outputs": [],
   "source": [
    "# 초기화\n",
    "pd.reset_option('display')"
   ]
  },
  {
   "cell_type": "markdown",
   "metadata": {},
   "source": [
    "# Cost_of_the_Product 그룹화!"
   ]
  },
  {
   "cell_type": "code",
   "execution_count": 114,
   "metadata": {},
   "outputs": [
    {
     "data": {
      "image/png": "[encoded data removed]",
      "text/plain": [
       "<Figure size 1080x360 with 1 Axes>"
      ]
     },
     "metadata": {
      "needs_background": "light"
     },
     "output_type": "display_data"
    }
   ],
   "source": [
    "plt.figure(figsize=(15,5))\n",
    "sns.violinplot(data= train,\n",
    "              x='Gender',\n",
    "              y='Cost_of_the_Product',\n",
    "              hue='Reached.on.Time_Y.N',\n",
    "            split=True)\n",
    "plt.grid()"
   ]
  },
  {
   "cell_type": "code",
   "execution_count": 115,
   "metadata": {},
   "outputs": [
    {
     "data": {
      "image/png": "[encoded data removed]",
      "text/plain": [
       "<Figure size 1080x360 with 1 Axes>"
      ]
     },
     "metadata": {
      "needs_background": "light"
     },
     "output_type": "display_data"
    }
   ],
   "source": [
    "plt.figure(figsize=(15,5))\n",
    "sns.violinplot(data= train,\n",
    "              x='Gender',\n",
    "              y='Customer_care_calls',\n",
    "              hue='Reached.on.Time_Y.N',\n",
    "            split=True)\n",
    "plt.grid()"
   ]
  },
  {
   "cell_type": "code",
   "execution_count": 116,
   "metadata": {},
   "outputs": [
    {
     "data": {
      "image/png": "[encoded data removed]",
      "text/plain": [
       "<Figure size 1080x360 with 1 Axes>"
      ]
     },
     "metadata": {
      "needs_background": "light"
     },
     "output_type": "display_data"
    }
   ],
   "source": [
    "plt.figure(figsize=(15,5))\n",
    "sns.violinplot(data= train,\n",
    "              x='Gender',\n",
    "              y='Customer_rating',\n",
    "              hue='Reached.on.Time_Y.N',\n",
    "            split=True)\n",
    "plt.grid()"
   ]
  },
  {
   "cell_type": "code",
   "execution_count": 117,
   "metadata": {
    "collapsed": true
   },
   "outputs": [
    {
     "data": {
      "image/png": "[encoded data removed]",
      "text/plain": [
       "<Figure size 1080x360 with 1 Axes>"
      ]
     },
     "metadata": {
      "needs_background": "light"
     },
     "output_type": "display_data"
    }
   ],
   "source": [
    "plt.figure(figsize=(15,5))\n",
    "sns.violinplot(data= train,\n",
    "              x='Gender',\n",
    "              y='Customer_care_calls',\n",
    "              hue='Reached.on.Time_Y.N',\n",
    "            split=True)\n",
    "plt.grid()"
   ]
  },
  {
   "cell_type": "code",
   "execution_count": 118,
   "metadata": {
    "scrolled": false
   },
   "outputs": [
    {
     "data": {
      "image/png": "[encoded data removed]",
      "text/plain": [
       "<Figure size 1080x360 with 1 Axes>"
      ]
     },
     "metadata": {
      "needs_background": "light"
     },
     "output_type": "display_data"
    }
   ],
   "source": [
    "plt.figure(figsize=(15,5))\n",
    "#plt.ylim(4000,5000)\n",
    "sns.violinplot(data= train,\n",
    "              x='Gender',\n",
    "              y='Weight_in_gms',\n",
    "              hue='Reached.on.Time_Y.N',\n",
    "            split=True)\n",
    "plt.grid()\n",
    "\n"
   ]
  },
  {
   "cell_type": "code",
   "execution_count": 119,
   "metadata": {},
   "outputs": [],
   "source": [
    "#전체 가족의 숫자르 범주화하여 Family_Group 컬럼을 새로 생성\n",
    "#bins 범주의 경계 \n",
    "#labels 범주의 명칭 지정\n",
    "bin_size=[0,150,250,10000]\n",
    "labels_size=['Alone','Small','Large']\n",
    "x_one_hot['Product']= pd.cut(train['Cost_of_the_Product'],bins=bin_size, labels= labels_size)\n",
    "x_one_hot1['Product']= pd.cut(test['Cost_of_the_Product'],bins=bin_size, labels=labels_size )"
   ]
  },
  {
   "cell_type": "code",
   "execution_count": 120,
   "metadata": {
    "scrolled": true
   },
   "outputs": [
    {
     "name": "stdout",
     "output_type": "stream",
     "text": [
      "<class 'pandas.core.frame.DataFrame'>\n",
      "Int64Index: 6999 entries, 1 to 6999\n",
      "Data columns (total 21 columns):\n",
      " #   Column                     Non-Null Count  Dtype   \n",
      "---  ------                     --------------  -----   \n",
      " 0   Customer_care_calls        6999 non-null   int64   \n",
      " 1   Customer_rating            6999 non-null   int64   \n",
      " 2   Cost_of_the_Product        6999 non-null   int64   \n",
      " 3   Prior_purchases            6999 non-null   float64 \n",
      " 4   Weight_in_gms              6999 non-null   int64   \n",
      " 5   Reached.on.Time_Y.N        6999 non-null   int64   \n",
      " 6   Warehouse_block_A          6999 non-null   uint8   \n",
      " 7   Warehouse_block_B          6999 non-null   uint8   \n",
      " 8   Warehouse_block_C          6999 non-null   uint8   \n",
      " 9   Warehouse_block_D          6999 non-null   uint8   \n",
      " 10  Warehouse_block_F          6999 non-null   uint8   \n",
      " 11  Mode_of_Shipment_?         6999 non-null   uint8   \n",
      " 12  Mode_of_Shipment_Flight    6999 non-null   uint8   \n",
      " 13  Mode_of_Shipment_Road      6999 non-null   uint8   \n",
      " 14  Mode_of_Shipment_Ship      6999 non-null   uint8   \n",
      " 15  Product_importance_high    6999 non-null   uint8   \n",
      " 16  Product_importance_low     6999 non-null   uint8   \n",
      " 17  Product_importance_medium  6999 non-null   uint8   \n",
      " 18  Gender_F                   6999 non-null   uint8   \n",
      " 19  Gender_M                   6999 non-null   uint8   \n",
      " 20  Product                    6999 non-null   category\n",
      "dtypes: category(1), float64(1), int64(5), uint8(14)\n",
      "memory usage: 485.4 KB\n"
     ]
    }
   ],
   "source": [
    "x_one_hot.info()"
   ]
  },
  {
   "cell_type": "code",
   "execution_count": 174,
   "metadata": {},
   "outputs": [
    {
     "data": {
      "text/plain": [
       "ID\n",
       "1       0\n",
       "2       1\n",
       "3       0\n",
       "4       0\n",
       "5       1\n",
       "       ..\n",
       "6995    0\n",
       "6996    0\n",
       "6997    0\n",
       "6998    0\n",
       "6999    0\n",
       "Name: Mode_of_Shipment_Flight, Length: 6999, dtype: uint8"
      ]
     },
     "execution_count": 174,
     "metadata": {},
     "output_type": "execute_result"
    }
   ],
   "source": [
    "x_one_hot['Mode_of_Shipment_Flight']"
   ]
  },
  {
   "cell_type": "code",
   "execution_count": 121,
   "metadata": {},
   "outputs": [
    {
     "name": "stdout",
     "output_type": "stream",
     "text": [
      "<class 'pandas.core.frame.DataFrame'>\n",
      "Int64Index: 4000 entries, 7000 to 10999\n",
      "Data columns (total 20 columns):\n",
      " #   Column                     Non-Null Count  Dtype   \n",
      "---  ------                     --------------  -----   \n",
      " 0   Customer_care_calls        4000 non-null   int64   \n",
      " 1   Customer_rating            4000 non-null   int64   \n",
      " 2   Cost_of_the_Product        4000 non-null   int64   \n",
      " 3   Prior_purchases            4000 non-null   float64 \n",
      " 4   Weight_in_gms              4000 non-null   int64   \n",
      " 5   Warehouse_block_A          4000 non-null   uint8   \n",
      " 6   Warehouse_block_B          4000 non-null   uint8   \n",
      " 7   Warehouse_block_C          4000 non-null   uint8   \n",
      " 8   Warehouse_block_D          4000 non-null   uint8   \n",
      " 9   Warehouse_block_F          4000 non-null   uint8   \n",
      " 10  Mode_of_Shipment_?         4000 non-null   uint8   \n",
      " 11  Mode_of_Shipment_Flight    4000 non-null   uint8   \n",
      " 12  Mode_of_Shipment_Road      4000 non-null   uint8   \n",
      " 13  Mode_of_Shipment_Ship      4000 non-null   uint8   \n",
      " 14  Product_importance_high    4000 non-null   uint8   \n",
      " 15  Product_importance_low     4000 non-null   uint8   \n",
      " 16  Product_importance_medium  4000 non-null   uint8   \n",
      " 17  Gender_F                   4000 non-null   uint8   \n",
      " 18  Gender_M                   4000 non-null   uint8   \n",
      " 19  Product                    4000 non-null   category\n",
      "dtypes: category(1), float64(1), int64(4), uint8(14)\n",
      "memory usage: 246.2 KB\n"
     ]
    }
   ],
   "source": [
    "x_one_hot1.info()"
   ]
  },
  {
   "cell_type": "code",
   "execution_count": 122,
   "metadata": {},
   "outputs": [],
   "source": [
    "#전체 가족의 숫자르 범주화하여 Family_Group 컬럼을 새로 생성\n",
    "#bins 범주의 경계 \n",
    "#labels 범주의 명칭 지정\n",
    "bin_size=[0,4200,10000]\n",
    "labels_size=['Small','Large']\n",
    "x_one_hot['gms']= pd.cut(train['Weight_in_gms'],bins=bin_size, labels= labels_size)\n",
    "x_one_hot1['gms']= pd.cut(test['Weight_in_gms'],bins=bin_size, labels= labels_size )"
   ]
  },
  {
   "cell_type": "code",
   "execution_count": 123,
   "metadata": {},
   "outputs": [],
   "source": [
    "x_one_hot.drop('Weight_in_gms', axis=1,inplace=True)\n",
    "x_one_hot.drop('Cost_of_the_Product', axis=1,inplace=True)\n",
    "x_one_hot1.drop('Weight_in_gms', axis=1,inplace=True)\n",
    "x_one_hot1.drop('Cost_of_the_Product', axis=1,inplace=True)"
   ]
  },
  {
   "cell_type": "code",
   "execution_count": 124,
   "metadata": {},
   "outputs": [
    {
     "name": "stdout",
     "output_type": "stream",
     "text": [
      "<class 'pandas.core.frame.DataFrame'>\n",
      "Int64Index: 4000 entries, 7000 to 10999\n",
      "Data columns (total 19 columns):\n",
      " #   Column                     Non-Null Count  Dtype   \n",
      "---  ------                     --------------  -----   \n",
      " 0   Customer_care_calls        4000 non-null   int64   \n",
      " 1   Customer_rating            4000 non-null   int64   \n",
      " 2   Prior_purchases            4000 non-null   float64 \n",
      " 3   Warehouse_block_A          4000 non-null   uint8   \n",
      " 4   Warehouse_block_B          4000 non-null   uint8   \n",
      " 5   Warehouse_block_C          4000 non-null   uint8   \n",
      " 6   Warehouse_block_D          4000 non-null   uint8   \n",
      " 7   Warehouse_block_F          4000 non-null   uint8   \n",
      " 8   Mode_of_Shipment_?         4000 non-null   uint8   \n",
      " 9   Mode_of_Shipment_Flight    4000 non-null   uint8   \n",
      " 10  Mode_of_Shipment_Road      4000 non-null   uint8   \n",
      " 11  Mode_of_Shipment_Ship      4000 non-null   uint8   \n",
      " 12  Product_importance_high    4000 non-null   uint8   \n",
      " 13  Product_importance_low     4000 non-null   uint8   \n",
      " 14  Product_importance_medium  4000 non-null   uint8   \n",
      " 15  Gender_F                   4000 non-null   uint8   \n",
      " 16  Gender_M                   4000 non-null   uint8   \n",
      " 17  Product                    4000 non-null   category\n",
      " 18  gms                        4000 non-null   category\n",
      "dtypes: category(2), float64(1), int64(2), uint8(14)\n",
      "memory usage: 187.7 KB\n"
     ]
    }
   ],
   "source": [
    "x_one_hot1.info()"
   ]
  },
  {
   "cell_type": "code",
   "execution_count": 125,
   "metadata": {},
   "outputs": [],
   "source": [
    "x_one_hot[\"Time_Y.N\"]=x_one_hot['Reached.on.Time_Y.N']"
   ]
  },
  {
   "cell_type": "code",
   "execution_count": 126,
   "metadata": {},
   "outputs": [],
   "source": [
    "x_one_hot.drop('Reached.on.Time_Y.N', axis=1,inplace=True)"
   ]
  },
  {
   "cell_type": "code",
   "execution_count": 127,
   "metadata": {},
   "outputs": [
    {
     "name": "stdout",
     "output_type": "stream",
     "text": [
      "<class 'pandas.core.frame.DataFrame'>\n",
      "Int64Index: 6999 entries, 1 to 6999\n",
      "Data columns (total 20 columns):\n",
      " #   Column                     Non-Null Count  Dtype   \n",
      "---  ------                     --------------  -----   \n",
      " 0   Customer_care_calls        6999 non-null   int64   \n",
      " 1   Customer_rating            6999 non-null   int64   \n",
      " 2   Prior_purchases            6999 non-null   float64 \n",
      " 3   Warehouse_block_A          6999 non-null   uint8   \n",
      " 4   Warehouse_block_B          6999 non-null   uint8   \n",
      " 5   Warehouse_block_C          6999 non-null   uint8   \n",
      " 6   Warehouse_block_D          6999 non-null   uint8   \n",
      " 7   Warehouse_block_F          6999 non-null   uint8   \n",
      " 8   Mode_of_Shipment_?         6999 non-null   uint8   \n",
      " 9   Mode_of_Shipment_Flight    6999 non-null   uint8   \n",
      " 10  Mode_of_Shipment_Road      6999 non-null   uint8   \n",
      " 11  Mode_of_Shipment_Ship      6999 non-null   uint8   \n",
      " 12  Product_importance_high    6999 non-null   uint8   \n",
      " 13  Product_importance_low     6999 non-null   uint8   \n",
      " 14  Product_importance_medium  6999 non-null   uint8   \n",
      " 15  Gender_F                   6999 non-null   uint8   \n",
      " 16  Gender_M                   6999 non-null   uint8   \n",
      " 17  Product                    6999 non-null   category\n",
      " 18  gms                        6999 non-null   category\n",
      " 19  Time_Y.N                   6999 non-null   int64   \n",
      "dtypes: category(2), float64(1), int64(3), uint8(14)\n",
      "memory usage: 383.0 KB\n"
     ]
    }
   ],
   "source": [
    "x_one_hot.info()"
   ]
  },
  {
   "cell_type": "code",
   "execution_count": 128,
   "metadata": {},
   "outputs": [
    {
     "name": "stdout",
     "output_type": "stream",
     "text": [
      "<class 'pandas.core.frame.DataFrame'>\n",
      "Int64Index: 6999 entries, 1 to 6999\n",
      "Data columns (total 23 columns):\n",
      " #   Column                     Non-Null Count  Dtype  \n",
      "---  ------                     --------------  -----  \n",
      " 0   Customer_care_calls        6999 non-null   int64  \n",
      " 1   Customer_rating            6999 non-null   int64  \n",
      " 2   Prior_purchases            6999 non-null   float64\n",
      " 3   Warehouse_block_A          6999 non-null   uint8  \n",
      " 4   Warehouse_block_B          6999 non-null   uint8  \n",
      " 5   Warehouse_block_C          6999 non-null   uint8  \n",
      " 6   Warehouse_block_D          6999 non-null   uint8  \n",
      " 7   Warehouse_block_F          6999 non-null   uint8  \n",
      " 8   Mode_of_Shipment_?         6999 non-null   uint8  \n",
      " 9   Mode_of_Shipment_Flight    6999 non-null   uint8  \n",
      " 10  Mode_of_Shipment_Road      6999 non-null   uint8  \n",
      " 11  Mode_of_Shipment_Ship      6999 non-null   uint8  \n",
      " 12  Product_importance_high    6999 non-null   uint8  \n",
      " 13  Product_importance_low     6999 non-null   uint8  \n",
      " 14  Product_importance_medium  6999 non-null   uint8  \n",
      " 15  Gender_F                   6999 non-null   uint8  \n",
      " 16  Gender_M                   6999 non-null   uint8  \n",
      " 17  Time_Y.N                   6999 non-null   int64  \n",
      " 18  Product_Alone              6999 non-null   uint8  \n",
      " 19  Product_Small              6999 non-null   uint8  \n",
      " 20  Product_Large              6999 non-null   uint8  \n",
      " 21  gms_Small                  6999 non-null   uint8  \n",
      " 22  gms_Large                  6999 non-null   uint8  \n",
      "dtypes: float64(1), int64(3), uint8(19)\n",
      "memory usage: 403.3 KB\n"
     ]
    }
   ],
   "source": [
    "# dummies 더미 컴럼을 만들어줌 원래 컴럼속의 유니크 값 만큼 나옴\n",
    "x_one_hot=pd.get_dummies(x_one_hot)\n",
    "x_one_hot.info()"
   ]
  },
  {
   "cell_type": "code",
   "execution_count": 129,
   "metadata": {},
   "outputs": [
    {
     "name": "stdout",
     "output_type": "stream",
     "text": [
      "<class 'pandas.core.frame.DataFrame'>\n",
      "Int64Index: 4000 entries, 7000 to 10999\n",
      "Data columns (total 22 columns):\n",
      " #   Column                     Non-Null Count  Dtype  \n",
      "---  ------                     --------------  -----  \n",
      " 0   Customer_care_calls        4000 non-null   int64  \n",
      " 1   Customer_rating            4000 non-null   int64  \n",
      " 2   Prior_purchases            4000 non-null   float64\n",
      " 3   Warehouse_block_A          4000 non-null   uint8  \n",
      " 4   Warehouse_block_B          4000 non-null   uint8  \n",
      " 5   Warehouse_block_C          4000 non-null   uint8  \n",
      " 6   Warehouse_block_D          4000 non-null   uint8  \n",
      " 7   Warehouse_block_F          4000 non-null   uint8  \n",
      " 8   Mode_of_Shipment_?         4000 non-null   uint8  \n",
      " 9   Mode_of_Shipment_Flight    4000 non-null   uint8  \n",
      " 10  Mode_of_Shipment_Road      4000 non-null   uint8  \n",
      " 11  Mode_of_Shipment_Ship      4000 non-null   uint8  \n",
      " 12  Product_importance_high    4000 non-null   uint8  \n",
      " 13  Product_importance_low     4000 non-null   uint8  \n",
      " 14  Product_importance_medium  4000 non-null   uint8  \n",
      " 15  Gender_F                   4000 non-null   uint8  \n",
      " 16  Gender_M                   4000 non-null   uint8  \n",
      " 17  Product_Alone              4000 non-null   uint8  \n",
      " 18  Product_Small              4000 non-null   uint8  \n",
      " 19  Product_Large              4000 non-null   uint8  \n",
      " 20  gms_Small                  4000 non-null   uint8  \n",
      " 21  gms_Large                  4000 non-null   uint8  \n",
      "dtypes: float64(1), int64(2), uint8(19)\n",
      "memory usage: 199.2 KB\n"
     ]
    }
   ],
   "source": [
    "# dummies 더미 컴럼을 만들어줌 원래 컴럼속의 유니크 값 만큼 나옴\n",
    "x_one_hot1=pd.get_dummies(x_one_hot1)\n",
    "x_one_hot1.info()"
   ]
  },
  {
   "cell_type": "code",
   "execution_count": 130,
   "metadata": {
    "collapsed": true
   },
   "outputs": [
    {
     "name": "stdout",
     "output_type": "stream",
     "text": [
      "<class 'pandas.core.frame.DataFrame'>\n",
      "Int64Index: 6999 entries, 1 to 6999\n",
      "Data columns (total 23 columns):\n",
      " #   Column                     Non-Null Count  Dtype  \n",
      "---  ------                     --------------  -----  \n",
      " 0   Customer_care_calls        6999 non-null   int64  \n",
      " 1   Customer_rating            6999 non-null   int64  \n",
      " 2   Prior_purchases            6999 non-null   float64\n",
      " 3   Warehouse_block_A          6999 non-null   uint8  \n",
      " 4   Warehouse_block_B          6999 non-null   uint8  \n",
      " 5   Warehouse_block_C          6999 non-null   uint8  \n",
      " 6   Warehouse_block_D          6999 non-null   uint8  \n",
      " 7   Warehouse_block_F          6999 non-null   uint8  \n",
      " 8   Mode_of_Shipment_?         6999 non-null   uint8  \n",
      " 9   Mode_of_Shipment_Flight    6999 non-null   uint8  \n",
      " 10  Mode_of_Shipment_Road      6999 non-null   uint8  \n",
      " 11  Mode_of_Shipment_Ship      6999 non-null   uint8  \n",
      " 12  Product_importance_high    6999 non-null   uint8  \n",
      " 13  Product_importance_low     6999 non-null   uint8  \n",
      " 14  Product_importance_medium  6999 non-null   uint8  \n",
      " 15  Gender_F                   6999 non-null   uint8  \n",
      " 16  Gender_M                   6999 non-null   uint8  \n",
      " 17  Time_Y.N                   6999 non-null   int64  \n",
      " 18  Product_Alone              6999 non-null   uint8  \n",
      " 19  Product_Small              6999 non-null   uint8  \n",
      " 20  Product_Large              6999 non-null   uint8  \n",
      " 21  gms_Small                  6999 non-null   uint8  \n",
      " 22  gms_Large                  6999 non-null   uint8  \n",
      "dtypes: float64(1), int64(3), uint8(19)\n",
      "memory usage: 403.3 KB\n"
     ]
    }
   ],
   "source": [
    "x_one_hot.info()"
   ]
  },
  {
   "cell_type": "code",
   "execution_count": 131,
   "metadata": {},
   "outputs": [
    {
     "name": "stdout",
     "output_type": "stream",
     "text": [
      "<class 'pandas.core.frame.DataFrame'>\n",
      "Int64Index: 4000 entries, 7000 to 10999\n",
      "Data columns (total 22 columns):\n",
      " #   Column                     Non-Null Count  Dtype  \n",
      "---  ------                     --------------  -----  \n",
      " 0   Customer_care_calls        4000 non-null   int64  \n",
      " 1   Customer_rating            4000 non-null   int64  \n",
      " 2   Prior_purchases            4000 non-null   float64\n",
      " 3   Warehouse_block_A          4000 non-null   uint8  \n",
      " 4   Warehouse_block_B          4000 non-null   uint8  \n",
      " 5   Warehouse_block_C          4000 non-null   uint8  \n",
      " 6   Warehouse_block_D          4000 non-null   uint8  \n",
      " 7   Warehouse_block_F          4000 non-null   uint8  \n",
      " 8   Mode_of_Shipment_?         4000 non-null   uint8  \n",
      " 9   Mode_of_Shipment_Flight    4000 non-null   uint8  \n",
      " 10  Mode_of_Shipment_Road      4000 non-null   uint8  \n",
      " 11  Mode_of_Shipment_Ship      4000 non-null   uint8  \n",
      " 12  Product_importance_high    4000 non-null   uint8  \n",
      " 13  Product_importance_low     4000 non-null   uint8  \n",
      " 14  Product_importance_medium  4000 non-null   uint8  \n",
      " 15  Gender_F                   4000 non-null   uint8  \n",
      " 16  Gender_M                   4000 non-null   uint8  \n",
      " 17  Product_Alone              4000 non-null   uint8  \n",
      " 18  Product_Small              4000 non-null   uint8  \n",
      " 19  Product_Large              4000 non-null   uint8  \n",
      " 20  gms_Small                  4000 non-null   uint8  \n",
      " 21  gms_Large                  4000 non-null   uint8  \n",
      "dtypes: float64(1), int64(2), uint8(19)\n",
      "memory usage: 199.2 KB\n"
     ]
    }
   ],
   "source": [
    "x_one_hot1.info()"
   ]
  },
  {
   "cell_type": "code",
   "execution_count": 132,
   "metadata": {},
   "outputs": [],
   "source": [
    "x_one_hot[\"Time_Y.N2\"]=x_one_hot[\"Time_Y.N\"]"
   ]
  },
  {
   "cell_type": "code",
   "execution_count": 133,
   "metadata": {},
   "outputs": [],
   "source": [
    "x_one_hot.drop('Time_Y.N', axis=1, inplace=True)"
   ]
  },
  {
   "cell_type": "code",
   "execution_count": 134,
   "metadata": {},
   "outputs": [],
   "source": [
    "x_one_hot[\"Time_Y.N\"]=x_one_hot[\"Time_Y.N2\"]"
   ]
  },
  {
   "cell_type": "code",
   "execution_count": 135,
   "metadata": {},
   "outputs": [],
   "source": [
    "x_one_hot.drop('Time_Y.N2', axis=1, inplace=True)"
   ]
  },
  {
   "cell_type": "code",
   "execution_count": 136,
   "metadata": {},
   "outputs": [
    {
     "name": "stdout",
     "output_type": "stream",
     "text": [
      "<class 'pandas.core.frame.DataFrame'>\n",
      "Int64Index: 6999 entries, 1 to 6999\n",
      "Data columns (total 23 columns):\n",
      " #   Column                     Non-Null Count  Dtype  \n",
      "---  ------                     --------------  -----  \n",
      " 0   Customer_care_calls        6999 non-null   int64  \n",
      " 1   Customer_rating            6999 non-null   int64  \n",
      " 2   Prior_purchases            6999 non-null   float64\n",
      " 3   Warehouse_block_A          6999 non-null   uint8  \n",
      " 4   Warehouse_block_B          6999 non-null   uint8  \n",
      " 5   Warehouse_block_C          6999 non-null   uint8  \n",
      " 6   Warehouse_block_D          6999 non-null   uint8  \n",
      " 7   Warehouse_block_F          6999 non-null   uint8  \n",
      " 8   Mode_of_Shipment_?         6999 non-null   uint8  \n",
      " 9   Mode_of_Shipment_Flight    6999 non-null   uint8  \n",
      " 10  Mode_of_Shipment_Road      6999 non-null   uint8  \n",
      " 11  Mode_of_Shipment_Ship      6999 non-null   uint8  \n",
      " 12  Product_importance_high    6999 non-null   uint8  \n",
      " 13  Product_importance_low     6999 non-null   uint8  \n",
      " 14  Product_importance_medium  6999 non-null   uint8  \n",
      " 15  Gender_F                   6999 non-null   uint8  \n",
      " 16  Gender_M                   6999 non-null   uint8  \n",
      " 17  Product_Alone              6999 non-null   uint8  \n",
      " 18  Product_Small              6999 non-null   uint8  \n",
      " 19  Product_Large              6999 non-null   uint8  \n",
      " 20  gms_Small                  6999 non-null   uint8  \n",
      " 21  gms_Large                  6999 non-null   uint8  \n",
      " 22  Time_Y.N                   6999 non-null   int64  \n",
      "dtypes: float64(1), int64(3), uint8(19)\n",
      "memory usage: 403.3 KB\n"
     ]
    }
   ],
   "source": [
    "x_one_hot.info()"
   ]
  },
  {
   "cell_type": "code",
   "execution_count": 137,
   "metadata": {},
   "outputs": [
    {
     "name": "stdout",
     "output_type": "stream",
     "text": [
      "<class 'pandas.core.frame.DataFrame'>\n",
      "Int64Index: 4000 entries, 7000 to 10999\n",
      "Data columns (total 22 columns):\n",
      " #   Column                     Non-Null Count  Dtype  \n",
      "---  ------                     --------------  -----  \n",
      " 0   Customer_care_calls        4000 non-null   int64  \n",
      " 1   Customer_rating            4000 non-null   int64  \n",
      " 2   Prior_purchases            4000 non-null   float64\n",
      " 3   Warehouse_block_A          4000 non-null   uint8  \n",
      " 4   Warehouse_block_B          4000 non-null   uint8  \n",
      " 5   Warehouse_block_C          4000 non-null   uint8  \n",
      " 6   Warehouse_block_D          4000 non-null   uint8  \n",
      " 7   Warehouse_block_F          4000 non-null   uint8  \n",
      " 8   Mode_of_Shipment_?         4000 non-null   uint8  \n",
      " 9   Mode_of_Shipment_Flight    4000 non-null   uint8  \n",
      " 10  Mode_of_Shipment_Road      4000 non-null   uint8  \n",
      " 11  Mode_of_Shipment_Ship      4000 non-null   uint8  \n",
      " 12  Product_importance_high    4000 non-null   uint8  \n",
      " 13  Product_importance_low     4000 non-null   uint8  \n",
      " 14  Product_importance_medium  4000 non-null   uint8  \n",
      " 15  Gender_F                   4000 non-null   uint8  \n",
      " 16  Gender_M                   4000 non-null   uint8  \n",
      " 17  Product_Alone              4000 non-null   uint8  \n",
      " 18  Product_Small              4000 non-null   uint8  \n",
      " 19  Product_Large              4000 non-null   uint8  \n",
      " 20  gms_Small                  4000 non-null   uint8  \n",
      " 21  gms_Large                  4000 non-null   uint8  \n",
      "dtypes: float64(1), int64(2), uint8(19)\n",
      "memory usage: 199.2 KB\n"
     ]
    }
   ],
   "source": [
    "x_one_hot1.info()"
   ]
  },
  {
   "cell_type": "code",
   "execution_count": 138,
   "metadata": {
    "collapsed": true
   },
   "outputs": [
    {
     "data": {
      "text/html": [
       "<div>\n",
       "<style scoped>\n",
       "    .dataframe tbody tr th:only-of-type {\n",
       "        vertical-align: middle;\n",
       "    }\n",
       "\n",
       "    .dataframe tbody tr th {\n",
       "        vertical-align: top;\n",
       "    }\n",
       "\n",
       "    .dataframe thead th {\n",
       "        text-align: right;\n",
       "    }\n",
       "</style>\n",
       "<table border=\"1\" class=\"dataframe\">\n",
       "  <thead>\n",
       "    <tr style=\"text-align: right;\">\n",
       "      <th></th>\n",
       "      <th>Customer_care_calls</th>\n",
       "      <th>Customer_rating</th>\n",
       "      <th>Prior_purchases</th>\n",
       "      <th>Warehouse_block_A</th>\n",
       "      <th>Warehouse_block_B</th>\n",
       "      <th>Warehouse_block_C</th>\n",
       "      <th>Warehouse_block_D</th>\n",
       "      <th>Warehouse_block_F</th>\n",
       "      <th>Mode_of_Shipment_?</th>\n",
       "      <th>Mode_of_Shipment_Flight</th>\n",
       "      <th>...</th>\n",
       "      <th>Product_importance_low</th>\n",
       "      <th>Product_importance_medium</th>\n",
       "      <th>Gender_F</th>\n",
       "      <th>Gender_M</th>\n",
       "      <th>Product_Alone</th>\n",
       "      <th>Product_Small</th>\n",
       "      <th>Product_Large</th>\n",
       "      <th>gms_Small</th>\n",
       "      <th>gms_Large</th>\n",
       "      <th>Time_Y.N</th>\n",
       "    </tr>\n",
       "  </thead>\n",
       "  <tbody>\n",
       "    <tr>\n",
       "      <th>Customer_care_calls</th>\n",
       "      <td>1.000000</td>\n",
       "      <td>0.009423</td>\n",
       "      <td>0.059339</td>\n",
       "      <td>0.010856</td>\n",
       "      <td>-0.018672</td>\n",
       "      <td>0.003755</td>\n",
       "      <td>-0.001439</td>\n",
       "      <td>0.004297</td>\n",
       "      <td>-0.020663</td>\n",
       "      <td>0.013443</td>\n",
       "      <td>...</td>\n",
       "      <td>0.028171</td>\n",
       "      <td>-0.009467</td>\n",
       "      <td>-0.004823</td>\n",
       "      <td>0.004823</td>\n",
       "      <td>-0.048513</td>\n",
       "      <td>-0.085401</td>\n",
       "      <td>0.134697</td>\n",
       "      <td>0.051902</td>\n",
       "      <td>-0.051902</td>\n",
       "      <td>-0.061375</td>\n",
       "    </tr>\n",
       "    <tr>\n",
       "      <th>Customer_rating</th>\n",
       "      <td>0.009423</td>\n",
       "      <td>1.000000</td>\n",
       "      <td>0.013079</td>\n",
       "      <td>-0.004241</td>\n",
       "      <td>0.002265</td>\n",
       "      <td>-0.000973</td>\n",
       "      <td>0.009332</td>\n",
       "      <td>-0.005045</td>\n",
       "      <td>0.012354</td>\n",
       "      <td>-0.000894</td>\n",
       "      <td>...</td>\n",
       "      <td>0.000970</td>\n",
       "      <td>-0.004696</td>\n",
       "      <td>0.006883</td>\n",
       "      <td>-0.006883</td>\n",
       "      <td>0.009259</td>\n",
       "      <td>-0.014155</td>\n",
       "      <td>0.008533</td>\n",
       "      <td>-0.006921</td>\n",
       "      <td>0.006921</td>\n",
       "      <td>0.001127</td>\n",
       "    </tr>\n",
       "    <tr>\n",
       "      <th>Prior_purchases</th>\n",
       "      <td>0.059339</td>\n",
       "      <td>0.013079</td>\n",
       "      <td>1.000000</td>\n",
       "      <td>-0.000342</td>\n",
       "      <td>-0.004824</td>\n",
       "      <td>0.006172</td>\n",
       "      <td>0.010176</td>\n",
       "      <td>-0.008899</td>\n",
       "      <td>0.012909</td>\n",
       "      <td>0.020216</td>\n",
       "      <td>...</td>\n",
       "      <td>-0.007424</td>\n",
       "      <td>0.003067</td>\n",
       "      <td>0.009719</td>\n",
       "      <td>-0.009719</td>\n",
       "      <td>-0.020986</td>\n",
       "      <td>-0.054362</td>\n",
       "      <td>0.077853</td>\n",
       "      <td>0.079211</td>\n",
       "      <td>-0.079211</td>\n",
       "      <td>-0.032579</td>\n",
       "    </tr>\n",
       "    <tr>\n",
       "      <th>Warehouse_block_A</th>\n",
       "      <td>0.010856</td>\n",
       "      <td>-0.004241</td>\n",
       "      <td>-0.000342</td>\n",
       "      <td>1.000000</td>\n",
       "      <td>-0.200306</td>\n",
       "      <td>-0.202576</td>\n",
       "      <td>-0.200926</td>\n",
       "      <td>-0.315204</td>\n",
       "      <td>0.000738</td>\n",
       "      <td>0.002744</td>\n",
       "      <td>...</td>\n",
       "      <td>0.011967</td>\n",
       "      <td>-0.014973</td>\n",
       "      <td>0.001984</td>\n",
       "      <td>-0.001984</td>\n",
       "      <td>0.032928</td>\n",
       "      <td>-0.004235</td>\n",
       "      <td>-0.021491</td>\n",
       "      <td>-0.001676</td>\n",
       "      <td>0.001676</td>\n",
       "      <td>-0.011003</td>\n",
       "    </tr>\n",
       "    <tr>\n",
       "      <th>Warehouse_block_B</th>\n",
       "      <td>-0.018672</td>\n",
       "      <td>0.002265</td>\n",
       "      <td>-0.004824</td>\n",
       "      <td>-0.200306</td>\n",
       "      <td>1.000000</td>\n",
       "      <td>-0.201330</td>\n",
       "      <td>-0.199691</td>\n",
       "      <td>-0.313267</td>\n",
       "      <td>-0.010132</td>\n",
       "      <td>-0.007195</td>\n",
       "      <td>...</td>\n",
       "      <td>-0.016478</td>\n",
       "      <td>0.023877</td>\n",
       "      <td>-0.005700</td>\n",
       "      <td>0.005700</td>\n",
       "      <td>-0.026127</td>\n",
       "      <td>0.017242</td>\n",
       "      <td>0.001444</td>\n",
       "      <td>0.003268</td>\n",
       "      <td>-0.003268</td>\n",
       "      <td>0.008610</td>\n",
       "    </tr>\n",
       "    <tr>\n",
       "      <th>Warehouse_block_C</th>\n",
       "      <td>0.003755</td>\n",
       "      <td>-0.000973</td>\n",
       "      <td>0.006172</td>\n",
       "      <td>-0.202576</td>\n",
       "      <td>-0.201330</td>\n",
       "      <td>1.000000</td>\n",
       "      <td>-0.201953</td>\n",
       "      <td>-0.316816</td>\n",
       "      <td>-0.008652</td>\n",
       "      <td>-0.003143</td>\n",
       "      <td>...</td>\n",
       "      <td>0.002079</td>\n",
       "      <td>-0.002794</td>\n",
       "      <td>-0.001062</td>\n",
       "      <td>0.001062</td>\n",
       "      <td>-0.014981</td>\n",
       "      <td>-0.012106</td>\n",
       "      <td>0.025555</td>\n",
       "      <td>-0.008823</td>\n",
       "      <td>0.008823</td>\n",
       "      <td>0.007706</td>\n",
       "    </tr>\n",
       "    <tr>\n",
       "      <th>Warehouse_block_D</th>\n",
       "      <td>-0.001439</td>\n",
       "      <td>0.009332</td>\n",
       "      <td>0.010176</td>\n",
       "      <td>-0.200926</td>\n",
       "      <td>-0.199691</td>\n",
       "      <td>-0.201953</td>\n",
       "      <td>1.000000</td>\n",
       "      <td>-0.314236</td>\n",
       "      <td>-0.002127</td>\n",
       "      <td>-0.000599</td>\n",
       "      <td>...</td>\n",
       "      <td>-0.006442</td>\n",
       "      <td>0.003250</td>\n",
       "      <td>0.018075</td>\n",
       "      <td>-0.018075</td>\n",
       "      <td>0.004015</td>\n",
       "      <td>-0.021792</td>\n",
       "      <td>0.021301</td>\n",
       "      <td>0.015390</td>\n",
       "      <td>-0.015390</td>\n",
       "      <td>0.018296</td>\n",
       "    </tr>\n",
       "    <tr>\n",
       "      <th>Warehouse_block_F</th>\n",
       "      <td>0.004297</td>\n",
       "      <td>-0.005045</td>\n",
       "      <td>-0.008899</td>\n",
       "      <td>-0.315204</td>\n",
       "      <td>-0.313267</td>\n",
       "      <td>-0.316816</td>\n",
       "      <td>-0.314236</td>\n",
       "      <td>1.000000</td>\n",
       "      <td>0.016013</td>\n",
       "      <td>0.006494</td>\n",
       "      <td>...</td>\n",
       "      <td>0.006980</td>\n",
       "      <td>-0.007346</td>\n",
       "      <td>-0.010550</td>\n",
       "      <td>0.010550</td>\n",
       "      <td>0.003271</td>\n",
       "      <td>0.016651</td>\n",
       "      <td>-0.021329</td>\n",
       "      <td>-0.006423</td>\n",
       "      <td>0.006423</td>\n",
       "      <td>-0.018720</td>\n",
       "    </tr>\n",
       "    <tr>\n",
       "      <th>Mode_of_Shipment_?</th>\n",
       "      <td>-0.020663</td>\n",
       "      <td>0.012354</td>\n",
       "      <td>0.012909</td>\n",
       "      <td>0.000738</td>\n",
       "      <td>-0.010132</td>\n",
       "      <td>-0.008652</td>\n",
       "      <td>-0.002127</td>\n",
       "      <td>0.016013</td>\n",
       "      <td>1.000000</td>\n",
       "      <td>-0.099119</td>\n",
       "      <td>...</td>\n",
       "      <td>-0.008188</td>\n",
       "      <td>0.003892</td>\n",
       "      <td>-0.007625</td>\n",
       "      <td>0.007625</td>\n",
       "      <td>0.002106</td>\n",
       "      <td>0.006133</td>\n",
       "      <td>-0.008575</td>\n",
       "      <td>-0.038141</td>\n",
       "      <td>0.038141</td>\n",
       "      <td>-0.029549</td>\n",
       "    </tr>\n",
       "    <tr>\n",
       "      <th>Mode_of_Shipment_Flight</th>\n",
       "      <td>0.013443</td>\n",
       "      <td>-0.000894</td>\n",
       "      <td>0.020216</td>\n",
       "      <td>0.002744</td>\n",
       "      <td>-0.007195</td>\n",
       "      <td>-0.003143</td>\n",
       "      <td>-0.000599</td>\n",
       "      <td>0.006494</td>\n",
       "      <td>-0.099119</td>\n",
       "      <td>1.000000</td>\n",
       "      <td>...</td>\n",
       "      <td>-0.008401</td>\n",
       "      <td>0.003045</td>\n",
       "      <td>-0.017344</td>\n",
       "      <td>0.017344</td>\n",
       "      <td>0.000487</td>\n",
       "      <td>0.009264</td>\n",
       "      <td>-0.010804</td>\n",
       "      <td>0.005339</td>\n",
       "      <td>-0.005339</td>\n",
       "      <td>0.005365</td>\n",
       "    </tr>\n",
       "    <tr>\n",
       "      <th>Mode_of_Shipment_Road</th>\n",
       "      <td>0.011019</td>\n",
       "      <td>-0.005619</td>\n",
       "      <td>0.004899</td>\n",
       "      <td>0.001605</td>\n",
       "      <td>0.001446</td>\n",
       "      <td>0.004201</td>\n",
       "      <td>0.001526</td>\n",
       "      <td>-0.006978</td>\n",
       "      <td>-0.101126</td>\n",
       "      <td>-0.178060</td>\n",
       "      <td>...</td>\n",
       "      <td>-0.004089</td>\n",
       "      <td>-0.004482</td>\n",
       "      <td>0.009079</td>\n",
       "      <td>-0.009079</td>\n",
       "      <td>-0.014410</td>\n",
       "      <td>-0.000556</td>\n",
       "      <td>0.012114</td>\n",
       "      <td>0.009004</td>\n",
       "      <td>-0.009004</td>\n",
       "      <td>0.003348</td>\n",
       "    </tr>\n",
       "    <tr>\n",
       "      <th>Mode_of_Shipment_Ship</th>\n",
       "      <td>-0.008596</td>\n",
       "      <td>-0.000899</td>\n",
       "      <td>-0.024769</td>\n",
       "      <td>-0.003594</td>\n",
       "      <td>0.009010</td>\n",
       "      <td>0.003230</td>\n",
       "      <td>0.000294</td>\n",
       "      <td>-0.007081</td>\n",
       "      <td>-0.319378</td>\n",
       "      <td>-0.562349</td>\n",
       "      <td>...</td>\n",
       "      <td>0.013165</td>\n",
       "      <td>-0.000712</td>\n",
       "      <td>0.009624</td>\n",
       "      <td>-0.009624</td>\n",
       "      <td>0.009507</td>\n",
       "      <td>-0.009342</td>\n",
       "      <td>0.002924</td>\n",
       "      <td>0.007145</td>\n",
       "      <td>-0.007145</td>\n",
       "      <td>0.007356</td>\n",
       "    </tr>\n",
       "    <tr>\n",
       "      <th>Product_importance_high</th>\n",
       "      <td>-0.034266</td>\n",
       "      <td>0.006696</td>\n",
       "      <td>0.007998</td>\n",
       "      <td>0.005182</td>\n",
       "      <td>-0.013011</td>\n",
       "      <td>0.001247</td>\n",
       "      <td>0.005880</td>\n",
       "      <td>0.000521</td>\n",
       "      <td>0.007904</td>\n",
       "      <td>0.009820</td>\n",
       "      <td>...</td>\n",
       "      <td>-0.294024</td>\n",
       "      <td>-0.257602</td>\n",
       "      <td>-0.016893</td>\n",
       "      <td>0.016893</td>\n",
       "      <td>0.007831</td>\n",
       "      <td>0.014110</td>\n",
       "      <td>-0.022107</td>\n",
       "      <td>-0.055993</td>\n",
       "      <td>0.055993</td>\n",
       "      <td>0.024041</td>\n",
       "    </tr>\n",
       "    <tr>\n",
       "      <th>Product_importance_low</th>\n",
       "      <td>0.028171</td>\n",
       "      <td>0.000970</td>\n",
       "      <td>-0.007424</td>\n",
       "      <td>0.011967</td>\n",
       "      <td>-0.016478</td>\n",
       "      <td>0.002079</td>\n",
       "      <td>-0.006442</td>\n",
       "      <td>0.006980</td>\n",
       "      <td>-0.008188</td>\n",
       "      <td>-0.008401</td>\n",
       "      <td>...</td>\n",
       "      <td>1.000000</td>\n",
       "      <td>-0.847800</td>\n",
       "      <td>0.007815</td>\n",
       "      <td>-0.007815</td>\n",
       "      <td>-0.015288</td>\n",
       "      <td>-0.020772</td>\n",
       "      <td>0.035543</td>\n",
       "      <td>0.061500</td>\n",
       "      <td>-0.061500</td>\n",
       "      <td>-0.012694</td>\n",
       "    </tr>\n",
       "    <tr>\n",
       "      <th>Product_importance_medium</th>\n",
       "      <td>-0.009467</td>\n",
       "      <td>-0.004696</td>\n",
       "      <td>0.003067</td>\n",
       "      <td>-0.014973</td>\n",
       "      <td>0.023877</td>\n",
       "      <td>-0.002794</td>\n",
       "      <td>0.003250</td>\n",
       "      <td>-0.007346</td>\n",
       "      <td>0.003892</td>\n",
       "      <td>0.003045</td>\n",
       "      <td>...</td>\n",
       "      <td>-0.847800</td>\n",
       "      <td>1.000000</td>\n",
       "      <td>0.001473</td>\n",
       "      <td>-0.001473</td>\n",
       "      <td>0.011110</td>\n",
       "      <td>0.013171</td>\n",
       "      <td>-0.023666</td>\n",
       "      <td>-0.031105</td>\n",
       "      <td>0.031105</td>\n",
       "      <td>-0.000506</td>\n",
       "    </tr>\n",
       "    <tr>\n",
       "      <th>Gender_F</th>\n",
       "      <td>-0.004823</td>\n",
       "      <td>0.006883</td>\n",
       "      <td>0.009719</td>\n",
       "      <td>0.001984</td>\n",
       "      <td>-0.005700</td>\n",
       "      <td>-0.001062</td>\n",
       "      <td>0.018075</td>\n",
       "      <td>-0.010550</td>\n",
       "      <td>-0.007625</td>\n",
       "      <td>-0.017344</td>\n",
       "      <td>...</td>\n",
       "      <td>0.007815</td>\n",
       "      <td>0.001473</td>\n",
       "      <td>1.000000</td>\n",
       "      <td>-1.000000</td>\n",
       "      <td>0.002330</td>\n",
       "      <td>0.014812</td>\n",
       "      <td>-0.018511</td>\n",
       "      <td>-0.001380</td>\n",
       "      <td>0.001380</td>\n",
       "      <td>0.000378</td>\n",
       "    </tr>\n",
       "    <tr>\n",
       "      <th>Gender_M</th>\n",
       "      <td>0.004823</td>\n",
       "      <td>-0.006883</td>\n",
       "      <td>-0.009719</td>\n",
       "      <td>-0.001984</td>\n",
       "      <td>0.005700</td>\n",
       "      <td>0.001062</td>\n",
       "      <td>-0.018075</td>\n",
       "      <td>0.010550</td>\n",
       "      <td>0.007625</td>\n",
       "      <td>0.017344</td>\n",
       "      <td>...</td>\n",
       "      <td>-0.007815</td>\n",
       "      <td>-0.001473</td>\n",
       "      <td>-1.000000</td>\n",
       "      <td>1.000000</td>\n",
       "      <td>-0.002330</td>\n",
       "      <td>-0.014812</td>\n",
       "      <td>0.018511</td>\n",
       "      <td>0.001380</td>\n",
       "      <td>-0.001380</td>\n",
       "      <td>-0.000378</td>\n",
       "    </tr>\n",
       "    <tr>\n",
       "      <th>Product_Alone</th>\n",
       "      <td>-0.048513</td>\n",
       "      <td>0.009259</td>\n",
       "      <td>-0.020986</td>\n",
       "      <td>0.032928</td>\n",
       "      <td>-0.026127</td>\n",
       "      <td>-0.014981</td>\n",
       "      <td>0.004015</td>\n",
       "      <td>0.003271</td>\n",
       "      <td>0.002106</td>\n",
       "      <td>0.000487</td>\n",
       "      <td>...</td>\n",
       "      <td>-0.015288</td>\n",
       "      <td>0.011110</td>\n",
       "      <td>0.002330</td>\n",
       "      <td>-0.002330</td>\n",
       "      <td>1.000000</td>\n",
       "      <td>-0.501883</td>\n",
       "      <td>-0.232991</td>\n",
       "      <td>-0.024399</td>\n",
       "      <td>0.024399</td>\n",
       "      <td>0.039871</td>\n",
       "    </tr>\n",
       "    <tr>\n",
       "      <th>Product_Small</th>\n",
       "      <td>-0.085401</td>\n",
       "      <td>-0.014155</td>\n",
       "      <td>-0.054362</td>\n",
       "      <td>-0.004235</td>\n",
       "      <td>0.017242</td>\n",
       "      <td>-0.012106</td>\n",
       "      <td>-0.021792</td>\n",
       "      <td>0.016651</td>\n",
       "      <td>0.006133</td>\n",
       "      <td>0.009264</td>\n",
       "      <td>...</td>\n",
       "      <td>-0.020772</td>\n",
       "      <td>0.013171</td>\n",
       "      <td>0.014812</td>\n",
       "      <td>-0.014812</td>\n",
       "      <td>-0.501883</td>\n",
       "      <td>1.000000</td>\n",
       "      <td>-0.724198</td>\n",
       "      <td>-0.116126</td>\n",
       "      <td>0.116126</td>\n",
       "      <td>0.010015</td>\n",
       "    </tr>\n",
       "    <tr>\n",
       "      <th>Product_Large</th>\n",
       "      <td>0.134697</td>\n",
       "      <td>0.008533</td>\n",
       "      <td>0.077853</td>\n",
       "      <td>-0.021491</td>\n",
       "      <td>0.001444</td>\n",
       "      <td>0.025555</td>\n",
       "      <td>0.021301</td>\n",
       "      <td>-0.021329</td>\n",
       "      <td>-0.008575</td>\n",
       "      <td>-0.010804</td>\n",
       "      <td>...</td>\n",
       "      <td>0.035543</td>\n",
       "      <td>-0.023666</td>\n",
       "      <td>-0.018511</td>\n",
       "      <td>0.018511</td>\n",
       "      <td>-0.232991</td>\n",
       "      <td>-0.724198</td>\n",
       "      <td>1.000000</td>\n",
       "      <td>0.150017</td>\n",
       "      <td>-0.150017</td>\n",
       "      <td>-0.043049</td>\n",
       "    </tr>\n",
       "    <tr>\n",
       "      <th>gms_Small</th>\n",
       "      <td>0.051902</td>\n",
       "      <td>-0.006921</td>\n",
       "      <td>0.079211</td>\n",
       "      <td>-0.001676</td>\n",
       "      <td>0.003268</td>\n",
       "      <td>-0.008823</td>\n",
       "      <td>0.015390</td>\n",
       "      <td>-0.006423</td>\n",
       "      <td>-0.038141</td>\n",
       "      <td>0.005339</td>\n",
       "      <td>...</td>\n",
       "      <td>0.061500</td>\n",
       "      <td>-0.031105</td>\n",
       "      <td>-0.001380</td>\n",
       "      <td>0.001380</td>\n",
       "      <td>-0.024399</td>\n",
       "      <td>-0.116126</td>\n",
       "      <td>0.150017</td>\n",
       "      <td>1.000000</td>\n",
       "      <td>-1.000000</td>\n",
       "      <td>0.326460</td>\n",
       "    </tr>\n",
       "    <tr>\n",
       "      <th>gms_Large</th>\n",
       "      <td>-0.051902</td>\n",
       "      <td>0.006921</td>\n",
       "      <td>-0.079211</td>\n",
       "      <td>0.001676</td>\n",
       "      <td>-0.003268</td>\n",
       "      <td>0.008823</td>\n",
       "      <td>-0.015390</td>\n",
       "      <td>0.006423</td>\n",
       "      <td>0.038141</td>\n",
       "      <td>-0.005339</td>\n",
       "      <td>...</td>\n",
       "      <td>-0.061500</td>\n",
       "      <td>0.031105</td>\n",
       "      <td>0.001380</td>\n",
       "      <td>-0.001380</td>\n",
       "      <td>0.024399</td>\n",
       "      <td>0.116126</td>\n",
       "      <td>-0.150017</td>\n",
       "      <td>-1.000000</td>\n",
       "      <td>1.000000</td>\n",
       "      <td>-0.326460</td>\n",
       "    </tr>\n",
       "    <tr>\n",
       "      <th>Time_Y.N</th>\n",
       "      <td>-0.061375</td>\n",
       "      <td>0.001127</td>\n",
       "      <td>-0.032579</td>\n",
       "      <td>-0.011003</td>\n",
       "      <td>0.008610</td>\n",
       "      <td>0.007706</td>\n",
       "      <td>0.018296</td>\n",
       "      <td>-0.018720</td>\n",
       "      <td>-0.029549</td>\n",
       "      <td>0.005365</td>\n",
       "      <td>...</td>\n",
       "      <td>-0.012694</td>\n",
       "      <td>-0.000506</td>\n",
       "      <td>0.000378</td>\n",
       "      <td>-0.000378</td>\n",
       "      <td>0.039871</td>\n",
       "      <td>0.010015</td>\n",
       "      <td>-0.043049</td>\n",
       "      <td>0.326460</td>\n",
       "      <td>-0.326460</td>\n",
       "      <td>1.000000</td>\n",
       "    </tr>\n",
       "  </tbody>\n",
       "</table>\n",
       "<p>23 rows × 23 columns</p>\n",
       "</div>"
      ],
      "text/plain": [
       "                           Customer_care_calls  Customer_rating  \\\n",
       "Customer_care_calls                   1.000000         0.009423   \n",
       "Customer_rating                       0.009423         1.000000   \n",
       "Prior_purchases                       0.059339         0.013079   \n",
       "Warehouse_block_A                     0.010856        -0.004241   \n",
       "Warehouse_block_B                    -0.018672         0.002265   \n",
       "Warehouse_block_C                     0.003755        -0.000973   \n",
       "Warehouse_block_D                    -0.001439         0.009332   \n",
       "Warehouse_block_F                     0.004297        -0.005045   \n",
       "Mode_of_Shipment_?                   -0.020663         0.012354   \n",
       "Mode_of_Shipment_Flight               0.013443        -0.000894   \n",
       "Mode_of_Shipment_Road                 0.011019        -0.005619   \n",
       "Mode_of_Shipment_Ship                -0.008596        -0.000899   \n",
       "Product_importance_high              -0.034266         0.006696   \n",
       "Product_importance_low                0.028171         0.000970   \n",
       "Product_importance_medium            -0.009467        -0.004696   \n",
       "Gender_F                             -0.004823         0.006883   \n",
       "Gender_M                              0.004823        -0.006883   \n",
       "Product_Alone                        -0.048513         0.009259   \n",
       "Product_Small                        -0.085401        -0.014155   \n",
       "Product_Large                         0.134697         0.008533   \n",
       "gms_Small                             0.051902        -0.006921   \n",
       "gms_Large                            -0.051902         0.006921   \n",
       "Time_Y.N                             -0.061375         0.001127   \n",
       "\n",
       "                           Prior_purchases  Warehouse_block_A  \\\n",
       "Customer_care_calls               0.059339           0.010856   \n",
       "Customer_rating                   0.013079          -0.004241   \n",
       "Prior_purchases                   1.000000          -0.000342   \n",
       "Warehouse_block_A                -0.000342           1.000000   \n",
       "Warehouse_block_B                -0.004824          -0.200306   \n",
       "Warehouse_block_C                 0.006172          -0.202576   \n",
       "Warehouse_block_D                 0.010176          -0.200926   \n",
       "Warehouse_block_F                -0.008899          -0.315204   \n",
       "Mode_of_Shipment_?                0.012909           0.000738   \n",
       "Mode_of_Shipment_Flight           0.020216           0.002744   \n",
       "Mode_of_Shipment_Road             0.004899           0.001605   \n",
       "Mode_of_Shipment_Ship            -0.024769          -0.003594   \n",
       "Product_importance_high           0.007998           0.005182   \n",
       "Product_importance_low           -0.007424           0.011967   \n",
       "Product_importance_medium         0.003067          -0.014973   \n",
       "Gender_F                          0.009719           0.001984   \n",
       "Gender_M                         -0.009719          -0.001984   \n",
       "Product_Alone                    -0.020986           0.032928   \n",
       "Product_Small                    -0.054362          -0.004235   \n",
       "Product_Large                     0.077853          -0.021491   \n",
       "gms_Small                         0.079211          -0.001676   \n",
       "gms_Large                        -0.079211           0.001676   \n",
       "Time_Y.N                         -0.032579          -0.011003   \n",
       "\n",
       "                           Warehouse_block_B  Warehouse_block_C  \\\n",
       "Customer_care_calls                -0.018672           0.003755   \n",
       "Customer_rating                     0.002265          -0.000973   \n",
       "Prior_purchases                    -0.004824           0.006172   \n",
       "Warehouse_block_A                  -0.200306          -0.202576   \n",
       "Warehouse_block_B                   1.000000          -0.201330   \n",
       "Warehouse_block_C                  -0.201330           1.000000   \n",
       "Warehouse_block_D                  -0.199691          -0.201953   \n",
       "Warehouse_block_F                  -0.313267          -0.316816   \n",
       "Mode_of_Shipment_?                 -0.010132          -0.008652   \n",
       "Mode_of_Shipment_Flight            -0.007195          -0.003143   \n",
       "Mode_of_Shipment_Road               0.001446           0.004201   \n",
       "Mode_of_Shipment_Ship               0.009010           0.003230   \n",
       "Product_importance_high            -0.013011           0.001247   \n",
       "Product_importance_low             -0.016478           0.002079   \n",
       "Product_importance_medium           0.023877          -0.002794   \n",
       "Gender_F                           -0.005700          -0.001062   \n",
       "Gender_M                            0.005700           0.001062   \n",
       "Product_Alone                      -0.026127          -0.014981   \n",
       "Product_Small                       0.017242          -0.012106   \n",
       "Product_Large                       0.001444           0.025555   \n",
       "gms_Small                           0.003268          -0.008823   \n",
       "gms_Large                          -0.003268           0.008823   \n",
       "Time_Y.N                            0.008610           0.007706   \n",
       "\n",
       "                           Warehouse_block_D  Warehouse_block_F  \\\n",
       "Customer_care_calls                -0.001439           0.004297   \n",
       "Customer_rating                     0.009332          -0.005045   \n",
       "Prior_purchases                     0.010176          -0.008899   \n",
       "Warehouse_block_A                  -0.200926          -0.315204   \n",
       "Warehouse_block_B                  -0.199691          -0.313267   \n",
       "Warehouse_block_C                  -0.201953          -0.316816   \n",
       "Warehouse_block_D                   1.000000          -0.314236   \n",
       "Warehouse_block_F                  -0.314236           1.000000   \n",
       "Mode_of_Shipment_?                 -0.002127           0.016013   \n",
       "Mode_of_Shipment_Flight            -0.000599           0.006494   \n",
       "Mode_of_Shipment_Road               0.001526          -0.006978   \n",
       "Mode_of_Shipment_Ship               0.000294          -0.007081   \n",
       "Product_importance_high             0.005880           0.000521   \n",
       "Product_importance_low             -0.006442           0.006980   \n",
       "Product_importance_medium           0.003250          -0.007346   \n",
       "Gender_F                            0.018075          -0.010550   \n",
       "Gender_M                           -0.018075           0.010550   \n",
       "Product_Alone                       0.004015           0.003271   \n",
       "Product_Small                      -0.021792           0.016651   \n",
       "Product_Large                       0.021301          -0.021329   \n",
       "gms_Small                           0.015390          -0.006423   \n",
       "gms_Large                          -0.015390           0.006423   \n",
       "Time_Y.N                            0.018296          -0.018720   \n",
       "\n",
       "                           Mode_of_Shipment_?  Mode_of_Shipment_Flight  ...  \\\n",
       "Customer_care_calls                 -0.020663                 0.013443  ...   \n",
       "Customer_rating                      0.012354                -0.000894  ...   \n",
       "Prior_purchases                      0.012909                 0.020216  ...   \n",
       "Warehouse_block_A                    0.000738                 0.002744  ...   \n",
       "Warehouse_block_B                   -0.010132                -0.007195  ...   \n",
       "Warehouse_block_C                   -0.008652                -0.003143  ...   \n",
       "Warehouse_block_D                   -0.002127                -0.000599  ...   \n",
       "Warehouse_block_F                    0.016013                 0.006494  ...   \n",
       "Mode_of_Shipment_?                   1.000000                -0.099119  ...   \n",
       "Mode_of_Shipment_Flight             -0.099119                 1.000000  ...   \n",
       "Mode_of_Shipment_Road               -0.101126                -0.178060  ...   \n",
       "Mode_of_Shipment_Ship               -0.319378                -0.562349  ...   \n",
       "Product_importance_high              0.007904                 0.009820  ...   \n",
       "Product_importance_low              -0.008188                -0.008401  ...   \n",
       "Product_importance_medium            0.003892                 0.003045  ...   \n",
       "Gender_F                            -0.007625                -0.017344  ...   \n",
       "Gender_M                             0.007625                 0.017344  ...   \n",
       "Product_Alone                        0.002106                 0.000487  ...   \n",
       "Product_Small                        0.006133                 0.009264  ...   \n",
       "Product_Large                       -0.008575                -0.010804  ...   \n",
       "gms_Small                           -0.038141                 0.005339  ...   \n",
       "gms_Large                            0.038141                -0.005339  ...   \n",
       "Time_Y.N                            -0.029549                 0.005365  ...   \n",
       "\n",
       "                           Product_importance_low  Product_importance_medium  \\\n",
       "Customer_care_calls                      0.028171                  -0.009467   \n",
       "Customer_rating                          0.000970                  -0.004696   \n",
       "Prior_purchases                         -0.007424                   0.003067   \n",
       "Warehouse_block_A                        0.011967                  -0.014973   \n",
       "Warehouse_block_B                       -0.016478                   0.023877   \n",
       "Warehouse_block_C                        0.002079                  -0.002794   \n",
       "Warehouse_block_D                       -0.006442                   0.003250   \n",
       "Warehouse_block_F                        0.006980                  -0.007346   \n",
       "Mode_of_Shipment_?                      -0.008188                   0.003892   \n",
       "Mode_of_Shipment_Flight                 -0.008401                   0.003045   \n",
       "Mode_of_Shipment_Road                   -0.004089                  -0.004482   \n",
       "Mode_of_Shipment_Ship                    0.013165                  -0.000712   \n",
       "Product_importance_high                 -0.294024                  -0.257602   \n",
       "Product_importance_low                   1.000000                  -0.847800   \n",
       "Product_importance_medium               -0.847800                   1.000000   \n",
       "Gender_F                                 0.007815                   0.001473   \n",
       "Gender_M                                -0.007815                  -0.001473   \n",
       "Product_Alone                           -0.015288                   0.011110   \n",
       "Product_Small                           -0.020772                   0.013171   \n",
       "Product_Large                            0.035543                  -0.023666   \n",
       "gms_Small                                0.061500                  -0.031105   \n",
       "gms_Large                               -0.061500                   0.031105   \n",
       "Time_Y.N                                -0.012694                  -0.000506   \n",
       "\n",
       "                           Gender_F  Gender_M  Product_Alone  Product_Small  \\\n",
       "Customer_care_calls       -0.004823  0.004823      -0.048513      -0.085401   \n",
       "Customer_rating            0.006883 -0.006883       0.009259      -0.014155   \n",
       "Prior_purchases            0.009719 -0.009719      -0.020986      -0.054362   \n",
       "Warehouse_block_A          0.001984 -0.001984       0.032928      -0.004235   \n",
       "Warehouse_block_B         -0.005700  0.005700      -0.026127       0.017242   \n",
       "Warehouse_block_C         -0.001062  0.001062      -0.014981      -0.012106   \n",
       "Warehouse_block_D          0.018075 -0.018075       0.004015      -0.021792   \n",
       "Warehouse_block_F         -0.010550  0.010550       0.003271       0.016651   \n",
       "Mode_of_Shipment_?        -0.007625  0.007625       0.002106       0.006133   \n",
       "Mode_of_Shipment_Flight   -0.017344  0.017344       0.000487       0.009264   \n",
       "Mode_of_Shipment_Road      0.009079 -0.009079      -0.014410      -0.000556   \n",
       "Mode_of_Shipment_Ship      0.009624 -0.009624       0.009507      -0.009342   \n",
       "Product_importance_high   -0.016893  0.016893       0.007831       0.014110   \n",
       "Product_importance_low     0.007815 -0.007815      -0.015288      -0.020772   \n",
       "Product_importance_medium  0.001473 -0.001473       0.011110       0.013171   \n",
       "Gender_F                   1.000000 -1.000000       0.002330       0.014812   \n",
       "Gender_M                  -1.000000  1.000000      -0.002330      -0.014812   \n",
       "Product_Alone              0.002330 -0.002330       1.000000      -0.501883   \n",
       "Product_Small              0.014812 -0.014812      -0.501883       1.000000   \n",
       "Product_Large             -0.018511  0.018511      -0.232991      -0.724198   \n",
       "gms_Small                 -0.001380  0.001380      -0.024399      -0.116126   \n",
       "gms_Large                  0.001380 -0.001380       0.024399       0.116126   \n",
       "Time_Y.N                   0.000378 -0.000378       0.039871       0.010015   \n",
       "\n",
       "                           Product_Large  gms_Small  gms_Large  Time_Y.N  \n",
       "Customer_care_calls             0.134697   0.051902  -0.051902 -0.061375  \n",
       "Customer_rating                 0.008533  -0.006921   0.006921  0.001127  \n",
       "Prior_purchases                 0.077853   0.079211  -0.079211 -0.032579  \n",
       "Warehouse_block_A              -0.021491  -0.001676   0.001676 -0.011003  \n",
       "Warehouse_block_B               0.001444   0.003268  -0.003268  0.008610  \n",
       "Warehouse_block_C               0.025555  -0.008823   0.008823  0.007706  \n",
       "Warehouse_block_D               0.021301   0.015390  -0.015390  0.018296  \n",
       "Warehouse_block_F              -0.021329  -0.006423   0.006423 -0.018720  \n",
       "Mode_of_Shipment_?             -0.008575  -0.038141   0.038141 -0.029549  \n",
       "Mode_of_Shipment_Flight        -0.010804   0.005339  -0.005339  0.005365  \n",
       "Mode_of_Shipment_Road           0.012114   0.009004  -0.009004  0.003348  \n",
       "Mode_of_Shipment_Ship           0.002924   0.007145  -0.007145  0.007356  \n",
       "Product_importance_high        -0.022107  -0.055993   0.055993  0.024041  \n",
       "Product_importance_low          0.035543   0.061500  -0.061500 -0.012694  \n",
       "Product_importance_medium      -0.023666  -0.031105   0.031105 -0.000506  \n",
       "Gender_F                       -0.018511  -0.001380   0.001380  0.000378  \n",
       "Gender_M                        0.018511   0.001380  -0.001380 -0.000378  \n",
       "Product_Alone                  -0.232991  -0.024399   0.024399  0.039871  \n",
       "Product_Small                  -0.724198  -0.116126   0.116126  0.010015  \n",
       "Product_Large                   1.000000   0.150017  -0.150017 -0.043049  \n",
       "gms_Small                       0.150017   1.000000  -1.000000  0.326460  \n",
       "gms_Large                      -0.150017  -1.000000   1.000000 -0.326460  \n",
       "Time_Y.N                       -0.043049   0.326460  -0.326460  1.000000  \n",
       "\n",
       "[23 rows x 23 columns]"
      ]
     },
     "execution_count": 138,
     "metadata": {},
     "output_type": "execute_result"
    }
   ],
   "source": [
    "x_one_hot.corr()"
   ]
  },
  {
   "cell_type": "code",
   "execution_count": 139,
   "metadata": {},
   "outputs": [
    {
     "name": "stdout",
     "output_type": "stream",
     "text": [
      "<class 'pandas.core.frame.DataFrame'>\n",
      "Int64Index: 6999 entries, 1 to 6999\n",
      "Data columns (total 10 columns):\n",
      " #   Column               Non-Null Count  Dtype  \n",
      "---  ------               --------------  -----  \n",
      " 0   Warehouse_block      6999 non-null   object \n",
      " 1   Mode_of_Shipment     6999 non-null   object \n",
      " 2   Customer_care_calls  6999 non-null   int64  \n",
      " 3   Customer_rating      6999 non-null   int64  \n",
      " 4   Cost_of_the_Product  6999 non-null   int64  \n",
      " 5   Prior_purchases      6999 non-null   float64\n",
      " 6   Product_importance   6999 non-null   object \n",
      " 7   Gender               6999 non-null   object \n",
      " 8   Weight_in_gms        6999 non-null   int64  \n",
      " 9   Reached.on.Time_Y.N  6999 non-null   int64  \n",
      "dtypes: float64(1), int64(5), object(4)\n",
      "memory usage: 921.5+ KB\n"
     ]
    }
   ],
   "source": [
    "train.info()"
   ]
  },
  {
   "cell_type": "code",
   "execution_count": 140,
   "metadata": {},
   "outputs": [
    {
     "data": {
      "text/html": [
       "<div>\n",
       "<style scoped>\n",
       "    .dataframe tbody tr th:only-of-type {\n",
       "        vertical-align: middle;\n",
       "    }\n",
       "\n",
       "    .dataframe tbody tr th {\n",
       "        vertical-align: top;\n",
       "    }\n",
       "\n",
       "    .dataframe thead tr th {\n",
       "        text-align: left;\n",
       "    }\n",
       "\n",
       "    .dataframe thead tr:last-of-type th {\n",
       "        text-align: right;\n",
       "    }\n",
       "</style>\n",
       "<table border=\"1\" class=\"dataframe\">\n",
       "  <thead>\n",
       "    <tr>\n",
       "      <th></th>\n",
       "      <th>mean</th>\n",
       "      <th>sum</th>\n",
       "    </tr>\n",
       "    <tr>\n",
       "      <th></th>\n",
       "      <th>Reached.on.Time_Y.N</th>\n",
       "      <th>Reached.on.Time_Y.N</th>\n",
       "    </tr>\n",
       "    <tr>\n",
       "      <th>Customer_rating</th>\n",
       "      <th></th>\n",
       "      <th></th>\n",
       "    </tr>\n",
       "  </thead>\n",
       "  <tbody>\n",
       "    <tr>\n",
       "      <th>1</th>\n",
       "      <td>0.594536</td>\n",
       "      <td>827</td>\n",
       "    </tr>\n",
       "    <tr>\n",
       "      <th>2</th>\n",
       "      <td>0.583274</td>\n",
       "      <td>816</td>\n",
       "    </tr>\n",
       "    <tr>\n",
       "      <th>3</th>\n",
       "      <td>0.615967</td>\n",
       "      <td>895</td>\n",
       "    </tr>\n",
       "    <tr>\n",
       "      <th>4</th>\n",
       "      <td>0.580693</td>\n",
       "      <td>788</td>\n",
       "    </tr>\n",
       "    <tr>\n",
       "      <th>5</th>\n",
       "      <td>0.597570</td>\n",
       "      <td>836</td>\n",
       "    </tr>\n",
       "  </tbody>\n",
       "</table>\n",
       "</div>"
      ],
      "text/plain": [
       "                               mean                 sum\n",
       "                Reached.on.Time_Y.N Reached.on.Time_Y.N\n",
       "Customer_rating                                        \n",
       "1                          0.594536                 827\n",
       "2                          0.583274                 816\n",
       "3                          0.615967                 895\n",
       "4                          0.580693                 788\n",
       "5                          0.597570                 836"
      ]
     },
     "execution_count": 140,
     "metadata": {},
     "output_type": "execute_result"
    }
   ],
   "source": [
    "pdf2 = pd.pivot_table(train,                # 피벗할 데이터프레임\n",
    "                     index = 'Customer_rating',    # 행 위치에 들어갈 열\n",
    "                     values = 'Reached.on.Time_Y.N',     # 데이터로 사용할 열\n",
    "                     aggfunc = ['mean', 'sum'])   # 데이터 집계함수\n",
    "pdf2"
   ]
  },
  {
   "cell_type": "code",
   "execution_count": 141,
   "metadata": {},
   "outputs": [
    {
     "data": {
      "text/html": [
       "<div>\n",
       "<style scoped>\n",
       "    .dataframe tbody tr th:only-of-type {\n",
       "        vertical-align: middle;\n",
       "    }\n",
       "\n",
       "    .dataframe tbody tr th {\n",
       "        vertical-align: top;\n",
       "    }\n",
       "\n",
       "    .dataframe thead tr th {\n",
       "        text-align: left;\n",
       "    }\n",
       "\n",
       "    .dataframe thead tr:last-of-type th {\n",
       "        text-align: right;\n",
       "    }\n",
       "</style>\n",
       "<table border=\"1\" class=\"dataframe\">\n",
       "  <thead>\n",
       "    <tr>\n",
       "      <th></th>\n",
       "      <th>mean</th>\n",
       "      <th>sum</th>\n",
       "    </tr>\n",
       "    <tr>\n",
       "      <th></th>\n",
       "      <th>Reached.on.Time_Y.N</th>\n",
       "      <th>Reached.on.Time_Y.N</th>\n",
       "    </tr>\n",
       "    <tr>\n",
       "      <th>Customer_care_calls</th>\n",
       "      <th></th>\n",
       "      <th></th>\n",
       "    </tr>\n",
       "  </thead>\n",
       "  <tbody>\n",
       "    <tr>\n",
       "      <th>0</th>\n",
       "      <td>0.626269</td>\n",
       "      <td>987</td>\n",
       "    </tr>\n",
       "    <tr>\n",
       "      <th>2</th>\n",
       "      <td>0.658537</td>\n",
       "      <td>189</td>\n",
       "    </tr>\n",
       "    <tr>\n",
       "      <th>3</th>\n",
       "      <td>0.614198</td>\n",
       "      <td>995</td>\n",
       "    </tr>\n",
       "    <tr>\n",
       "      <th>4</th>\n",
       "      <td>0.582005</td>\n",
       "      <td>1022</td>\n",
       "    </tr>\n",
       "    <tr>\n",
       "      <th>5</th>\n",
       "      <td>0.576286</td>\n",
       "      <td>661</td>\n",
       "    </tr>\n",
       "    <tr>\n",
       "      <th>6</th>\n",
       "      <td>0.506048</td>\n",
       "      <td>251</td>\n",
       "    </tr>\n",
       "    <tr>\n",
       "      <th>7</th>\n",
       "      <td>0.487179</td>\n",
       "      <td>57</td>\n",
       "    </tr>\n",
       "  </tbody>\n",
       "</table>\n",
       "</div>"
      ],
      "text/plain": [
       "                                   mean                 sum\n",
       "                    Reached.on.Time_Y.N Reached.on.Time_Y.N\n",
       "Customer_care_calls                                        \n",
       "0                              0.626269                 987\n",
       "2                              0.658537                 189\n",
       "3                              0.614198                 995\n",
       "4                              0.582005                1022\n",
       "5                              0.576286                 661\n",
       "6                              0.506048                 251\n",
       "7                              0.487179                  57"
      ]
     },
     "execution_count": 141,
     "metadata": {},
     "output_type": "execute_result"
    }
   ],
   "source": [
    "pdf2 = pd.pivot_table(train,                # 피벗할 데이터프레임\n",
    "                     index = 'Customer_care_calls',    # 행 위치에 들어갈 열\n",
    "                     values = 'Reached.on.Time_Y.N',     # 데이터로 사용할 열\n",
    "                     aggfunc = ['mean', 'sum'])   # 데이터 집계함수\n",
    "pdf2"
   ]
  },
  {
   "cell_type": "code",
   "execution_count": 142,
   "metadata": {},
   "outputs": [
    {
     "data": {
      "text/html": [
       "<div>\n",
       "<style scoped>\n",
       "    .dataframe tbody tr th:only-of-type {\n",
       "        vertical-align: middle;\n",
       "    }\n",
       "\n",
       "    .dataframe tbody tr th {\n",
       "        vertical-align: top;\n",
       "    }\n",
       "\n",
       "    .dataframe thead tr th {\n",
       "        text-align: left;\n",
       "    }\n",
       "\n",
       "    .dataframe thead tr:last-of-type th {\n",
       "        text-align: right;\n",
       "    }\n",
       "</style>\n",
       "<table border=\"1\" class=\"dataframe\">\n",
       "  <thead>\n",
       "    <tr>\n",
       "      <th></th>\n",
       "      <th>mean</th>\n",
       "      <th>sum</th>\n",
       "    </tr>\n",
       "    <tr>\n",
       "      <th></th>\n",
       "      <th>Reached.on.Time_Y.N</th>\n",
       "      <th>Reached.on.Time_Y.N</th>\n",
       "    </tr>\n",
       "    <tr>\n",
       "      <th>Prior_purchases</th>\n",
       "      <th></th>\n",
       "      <th></th>\n",
       "    </tr>\n",
       "  </thead>\n",
       "  <tbody>\n",
       "    <tr>\n",
       "      <th>0.0</th>\n",
       "      <td>0.569474</td>\n",
       "      <td>541</td>\n",
       "    </tr>\n",
       "    <tr>\n",
       "      <th>2.0</th>\n",
       "      <td>0.626142</td>\n",
       "      <td>891</td>\n",
       "    </tr>\n",
       "    <tr>\n",
       "      <th>3.0</th>\n",
       "      <td>0.642004</td>\n",
       "      <td>1397</td>\n",
       "    </tr>\n",
       "    <tr>\n",
       "      <th>4.0</th>\n",
       "      <td>0.561102</td>\n",
       "      <td>652</td>\n",
       "    </tr>\n",
       "    <tr>\n",
       "      <th>5.0</th>\n",
       "      <td>0.492517</td>\n",
       "      <td>362</td>\n",
       "    </tr>\n",
       "    <tr>\n",
       "      <th>6.0</th>\n",
       "      <td>0.548387</td>\n",
       "      <td>170</td>\n",
       "    </tr>\n",
       "    <tr>\n",
       "      <th>7.0</th>\n",
       "      <td>0.700000</td>\n",
       "      <td>49</td>\n",
       "    </tr>\n",
       "    <tr>\n",
       "      <th>8.0</th>\n",
       "      <td>0.694444</td>\n",
       "      <td>50</td>\n",
       "    </tr>\n",
       "    <tr>\n",
       "      <th>10.0</th>\n",
       "      <td>0.495050</td>\n",
       "      <td>50</td>\n",
       "    </tr>\n",
       "  </tbody>\n",
       "</table>\n",
       "</div>"
      ],
      "text/plain": [
       "                               mean                 sum\n",
       "                Reached.on.Time_Y.N Reached.on.Time_Y.N\n",
       "Prior_purchases                                        \n",
       "0.0                        0.569474                 541\n",
       "2.0                        0.626142                 891\n",
       "3.0                        0.642004                1397\n",
       "4.0                        0.561102                 652\n",
       "5.0                        0.492517                 362\n",
       "6.0                        0.548387                 170\n",
       "7.0                        0.700000                  49\n",
       "8.0                        0.694444                  50\n",
       "10.0                       0.495050                  50"
      ]
     },
     "execution_count": 142,
     "metadata": {},
     "output_type": "execute_result"
    }
   ],
   "source": [
    "pdf2 = pd.pivot_table(train,                # 피벗할 데이터프레임\n",
    "                     index = 'Prior_purchases',    # 행 위치에 들어갈 열\n",
    "                     values = 'Reached.on.Time_Y.N',     # 데이터로 사용할 열\n",
    "                     aggfunc = ['mean', 'sum'])   # 데이터 집계함수\n",
    "pdf2"
   ]
  },
  {
   "cell_type": "markdown",
   "metadata": {},
   "source": [
    "# train, test 데이터 분류"
   ]
  },
  {
   "cell_type": "code",
   "execution_count": 143,
   "metadata": {
    "ExecuteTime": {
     "end_time": "2021-06-04T06:40:05.331852Z",
     "start_time": "2021-06-04T06:40:04.023Z"
    }
   },
   "outputs": [],
   "source": [
    "X_train = x_one_hot.loc[:,:'gms_Large']\n",
    "y_train = x_one_hot['Time_Y.N']\n",
    "X_test = x_one_hot1"
   ]
  },
  {
   "cell_type": "code",
   "execution_count": 144,
   "metadata": {
    "scrolled": true
   },
   "outputs": [
    {
     "name": "stdout",
     "output_type": "stream",
     "text": [
      "<class 'pandas.core.frame.DataFrame'>\n",
      "Int64Index: 6999 entries, 1 to 6999\n",
      "Data columns (total 22 columns):\n",
      " #   Column                     Non-Null Count  Dtype  \n",
      "---  ------                     --------------  -----  \n",
      " 0   Customer_care_calls        6999 non-null   int64  \n",
      " 1   Customer_rating            6999 non-null   int64  \n",
      " 2   Prior_purchases            6999 non-null   float64\n",
      " 3   Warehouse_block_A          6999 non-null   uint8  \n",
      " 4   Warehouse_block_B          6999 non-null   uint8  \n",
      " 5   Warehouse_block_C          6999 non-null   uint8  \n",
      " 6   Warehouse_block_D          6999 non-null   uint8  \n",
      " 7   Warehouse_block_F          6999 non-null   uint8  \n",
      " 8   Mode_of_Shipment_?         6999 non-null   uint8  \n",
      " 9   Mode_of_Shipment_Flight    6999 non-null   uint8  \n",
      " 10  Mode_of_Shipment_Road      6999 non-null   uint8  \n",
      " 11  Mode_of_Shipment_Ship      6999 non-null   uint8  \n",
      " 12  Product_importance_high    6999 non-null   uint8  \n",
      " 13  Product_importance_low     6999 non-null   uint8  \n",
      " 14  Product_importance_medium  6999 non-null   uint8  \n",
      " 15  Gender_F                   6999 non-null   uint8  \n",
      " 16  Gender_M                   6999 non-null   uint8  \n",
      " 17  Product_Alone              6999 non-null   uint8  \n",
      " 18  Product_Small              6999 non-null   uint8  \n",
      " 19  Product_Large              6999 non-null   uint8  \n",
      " 20  gms_Small                  6999 non-null   uint8  \n",
      " 21  gms_Large                  6999 non-null   uint8  \n",
      "dtypes: float64(1), int64(2), uint8(19)\n",
      "memory usage: 348.6 KB\n"
     ]
    }
   ],
   "source": [
    "X_train.info()"
   ]
  },
  {
   "cell_type": "code",
   "execution_count": 145,
   "metadata": {},
   "outputs": [
    {
     "data": {
      "text/plain": [
       "ID\n",
       "1       1\n",
       "2       0\n",
       "3       1\n",
       "4       0\n",
       "5       1\n",
       "       ..\n",
       "6995    0\n",
       "6996    0\n",
       "6997    0\n",
       "6998    0\n",
       "6999    0\n",
       "Name: Time_Y.N, Length: 6999, dtype: int64"
      ]
     },
     "execution_count": 145,
     "metadata": {},
     "output_type": "execute_result"
    }
   ],
   "source": [
    "y_train"
   ]
  },
  {
   "cell_type": "code",
   "execution_count": 146,
   "metadata": {
    "collapsed": true
   },
   "outputs": [
    {
     "name": "stdout",
     "output_type": "stream",
     "text": [
      "<class 'pandas.core.frame.DataFrame'>\n",
      "Int64Index: 4000 entries, 7000 to 10999\n",
      "Data columns (total 22 columns):\n",
      " #   Column                     Non-Null Count  Dtype  \n",
      "---  ------                     --------------  -----  \n",
      " 0   Customer_care_calls        4000 non-null   int64  \n",
      " 1   Customer_rating            4000 non-null   int64  \n",
      " 2   Prior_purchases            4000 non-null   float64\n",
      " 3   Warehouse_block_A          4000 non-null   uint8  \n",
      " 4   Warehouse_block_B          4000 non-null   uint8  \n",
      " 5   Warehouse_block_C          4000 non-null   uint8  \n",
      " 6   Warehouse_block_D          4000 non-null   uint8  \n",
      " 7   Warehouse_block_F          4000 non-null   uint8  \n",
      " 8   Mode_of_Shipment_?         4000 non-null   uint8  \n",
      " 9   Mode_of_Shipment_Flight    4000 non-null   uint8  \n",
      " 10  Mode_of_Shipment_Road      4000 non-null   uint8  \n",
      " 11  Mode_of_Shipment_Ship      4000 non-null   uint8  \n",
      " 12  Product_importance_high    4000 non-null   uint8  \n",
      " 13  Product_importance_low     4000 non-null   uint8  \n",
      " 14  Product_importance_medium  4000 non-null   uint8  \n",
      " 15  Gender_F                   4000 non-null   uint8  \n",
      " 16  Gender_M                   4000 non-null   uint8  \n",
      " 17  Product_Alone              4000 non-null   uint8  \n",
      " 18  Product_Small              4000 non-null   uint8  \n",
      " 19  Product_Large              4000 non-null   uint8  \n",
      " 20  gms_Small                  4000 non-null   uint8  \n",
      " 21  gms_Large                  4000 non-null   uint8  \n",
      "dtypes: float64(1), int64(2), uint8(19)\n",
      "memory usage: 199.2 KB\n"
     ]
    }
   ],
   "source": [
    "X_test.info()"
   ]
  },
  {
   "cell_type": "markdown",
   "metadata": {},
   "source": [
    "# 인코딩"
   ]
  },
  {
   "cell_type": "code",
   "execution_count": 147,
   "metadata": {},
   "outputs": [],
   "source": [
    "X_train = pd.get_dummies(X_train)\n",
    "X_test = pd.get_dummies(X_test)"
   ]
  },
  {
   "cell_type": "markdown",
   "metadata": {},
   "source": [
    "# 스케일링"
   ]
  },
  {
   "cell_type": "code",
   "execution_count": 148,
   "metadata": {
    "ExecuteTime": {
     "end_time": "2021-06-04T06:40:05.332849Z",
     "start_time": "2021-06-04T06:40:04.024Z"
    }
   },
   "outputs": [],
   "source": [
    "from sklearn.preprocessing import StandardScaler"
   ]
  },
  {
   "cell_type": "code",
   "execution_count": 149,
   "metadata": {
    "ExecuteTime": {
     "end_time": "2021-06-04T06:40:05.333846Z",
     "start_time": "2021-06-04T06:40:04.025Z"
    }
   },
   "outputs": [
    {
     "data": {
      "text/plain": [
       "StandardScaler()"
      ]
     },
     "execution_count": 149,
     "metadata": {},
     "output_type": "execute_result"
    }
   ],
   "source": [
    "scaler = StandardScaler()\n",
    "scaler.fit(X_train)"
   ]
  },
  {
   "cell_type": "code",
   "execution_count": 150,
   "metadata": {
    "ExecuteTime": {
     "end_time": "2021-06-04T06:40:05.333846Z",
     "start_time": "2021-06-04T06:40:04.026Z"
    }
   },
   "outputs": [],
   "source": [
    "X_train_Scaled = scaler.transform(X_train)\n",
    "X_test_Scaled = scaler.transform(X_test)"
   ]
  },
  {
   "cell_type": "code",
   "execution_count": null,
   "metadata": {
    "ExecuteTime": {
     "end_time": "2021-06-04T06:40:05.334844Z",
     "start_time": "2021-06-04T06:40:04.027Z"
    }
   },
   "outputs": [],
   "source": []
  },
  {
   "cell_type": "markdown",
   "metadata": {},
   "source": [
    "# 모델 선정 및 학습"
   ]
  },
  {
   "cell_type": "code",
   "execution_count": 151,
   "metadata": {
    "ExecuteTime": {
     "end_time": "2021-06-04T06:40:05.334844Z",
     "start_time": "2021-06-04T06:40:04.028Z"
    }
   },
   "outputs": [
    {
     "name": "stdout",
     "output_type": "stream",
     "text": [
      "Requirement already satisfied: lightgbm in c:\\users\\21smt40\\anaconda3\\lib\\site-packages (3.2.1)\n",
      "Requirement already satisfied: scipy in c:\\users\\21smt40\\anaconda3\\lib\\site-packages (from lightgbm) (1.5.2)\n",
      "Requirement already satisfied: wheel in c:\\users\\21smt40\\anaconda3\\lib\\site-packages (from lightgbm) (0.35.1)\n",
      "Requirement already satisfied: scikit-learn!=0.22.0 in c:\\users\\21smt40\\anaconda3\\lib\\site-packages (from lightgbm) (0.23.2)\n",
      "Requirement already satisfied: numpy in c:\\users\\21smt40\\anaconda3\\lib\\site-packages (from lightgbm) (1.19.2)\n",
      "Requirement already satisfied: threadpoolctl>=2.0.0 in c:\\users\\21smt40\\anaconda3\\lib\\site-packages (from scikit-learn!=0.22.0->lightgbm) (2.1.0)\n",
      "Requirement already satisfied: joblib>=0.11 in c:\\users\\21smt40\\anaconda3\\lib\\site-packages (from scikit-learn!=0.22.0->lightgbm) (0.17.0)\n"
     ]
    }
   ],
   "source": [
    "!pip install lightgbm"
   ]
  },
  {
   "cell_type": "code",
   "execution_count": 152,
   "metadata": {
    "ExecuteTime": {
     "end_time": "2021-06-04T06:40:05.335841Z",
     "start_time": "2021-06-04T06:40:04.029Z"
    }
   },
   "outputs": [
    {
     "name": "stdout",
     "output_type": "stream",
     "text": [
      "Requirement already satisfied: xgboost in c:\\users\\21smt40\\anaconda3\\lib\\site-packages (1.4.2)\n",
      "Requirement already satisfied: scipy in c:\\users\\21smt40\\anaconda3\\lib\\site-packages (from xgboost) (1.5.2)\n",
      "Requirement already satisfied: numpy in c:\\users\\21smt40\\anaconda3\\lib\\site-packages (from xgboost) (1.19.2)\n"
     ]
    }
   ],
   "source": [
    "!pip install xgboost"
   ]
  },
  {
   "cell_type": "code",
   "execution_count": 153,
   "metadata": {
    "ExecuteTime": {
     "end_time": "2021-06-04T06:40:05.335841Z",
     "start_time": "2021-06-04T06:40:04.030Z"
    }
   },
   "outputs": [],
   "source": [
    "from sklearn.model_selection import cross_val_score\n",
    "from sklearn.model_selection import KFold\n",
    "from sklearn.metrics import classification_report\n",
    "from sklearn.metrics import accuracy_score\n",
    "from lightgbm import LGBMClassifier\n",
    "from xgboost import XGBClassifier\n",
    "from sklearn.ensemble import RandomForestClassifier\n",
    "from sklearn.model_selection import GridSearchCV"
   ]
  },
  {
   "cell_type": "code",
   "execution_count": 154,
   "metadata": {
    "ExecuteTime": {
     "end_time": "2021-06-04T06:40:05.336838Z",
     "start_time": "2021-06-04T06:40:04.030Z"
    }
   },
   "outputs": [],
   "source": [
    "# cv파라미터에 사용할 kfold값 설정\n",
    "kfold = KFold(n_splits=10, random_state=123, shuffle=True)"
   ]
  },
  {
   "cell_type": "code",
   "execution_count": 155,
   "metadata": {
    "ExecuteTime": {
     "end_time": "2021-06-04T06:40:05.337836Z",
     "start_time": "2021-06-04T06:40:04.031Z"
    }
   },
   "outputs": [
    {
     "data": {
      "text/plain": [
       "LGBMClassifier(learning_rate=0.01, n_estimators=1000, random_state=123)"
      ]
     },
     "execution_count": 155,
     "metadata": {},
     "output_type": "execute_result"
    }
   ],
   "source": [
    "# lightgbm 모델\n",
    "lgbm_model = LGBMClassifier(n_estimators=1000, learning_rate=0.01, random_state=123)\n",
    "lgbm_model.fit(X_train_Scaled, y_train)"
   ]
  },
  {
   "cell_type": "code",
   "execution_count": 156,
   "metadata": {
    "ExecuteTime": {
     "end_time": "2021-06-04T06:40:05.337836Z",
     "start_time": "2021-06-04T06:40:04.032Z"
    }
   },
   "outputs": [
    {
     "name": "stdout",
     "output_type": "stream",
     "text": [
      "0.6462370733701206\n"
     ]
    }
   ],
   "source": [
    "# 정확도 교차검증\n",
    "acc_result = cross_val_score(lgbm_model,\n",
    "                            X_train_Scaled,\n",
    "                            y_train,\n",
    "                            cv=kfold\n",
    "                            )\n",
    "print(acc_result.mean())"
   ]
  },
  {
   "cell_type": "code",
   "execution_count": 157,
   "metadata": {
    "ExecuteTime": {
     "end_time": "2021-06-04T06:40:05.338833Z",
     "start_time": "2021-06-04T06:40:04.033Z"
    }
   },
   "outputs": [
    {
     "name": "stdout",
     "output_type": "stream",
     "text": [
      "0.6868333728118279\n"
     ]
    }
   ],
   "source": [
    "# f1스코어 교차검증\n",
    "f1_result = cross_val_score(lgbm_model,\n",
    "                           X_train_Scaled,\n",
    "                           y_train,\n",
    "                           cv=kfold,\n",
    "                           scoring='f1'\n",
    "                           )\n",
    "print(f1_result.mean())"
   ]
  },
  {
   "cell_type": "code",
   "execution_count": 158,
   "metadata": {
    "ExecuteTime": {
     "end_time": "2021-06-04T06:40:05.339829Z",
     "start_time": "2021-06-04T06:40:04.034Z"
    }
   },
   "outputs": [
    {
     "name": "stdout",
     "output_type": "stream",
     "text": [
      "[10:14:40] WARNING: C:/Users/Administrator/workspace/xgboost-win64_release_1.4.0/src/learner.cc:1095: Starting in XGBoost 1.3.0, the default evaluation metric used with the objective 'binary:logistic' was changed from 'error' to 'logloss'. Explicitly set eval_metric if you'd like to restore the old behavior.\n"
     ]
    },
    {
     "name": "stderr",
     "output_type": "stream",
     "text": [
      "C:\\Users\\21SMT40\\anaconda3\\lib\\site-packages\\xgboost\\sklearn.py:1146: UserWarning: The use of label encoder in XGBClassifier is deprecated and will be removed in a future release. To remove this warning, do the following: 1) Pass option use_label_encoder=False when constructing XGBClassifier object; and 2) Encode your labels (y) as integers starting with 0, i.e. 0, 1, 2, ..., [num_class - 1].\n",
      "  warnings.warn(label_encoder_deprecation_msg, UserWarning)\n"
     ]
    },
    {
     "data": {
      "text/plain": [
       "XGBClassifier(base_score=0.5, booster='gbtree', colsample_bylevel=1,\n",
       "              colsample_bynode=1, colsample_bytree=1, gamma=0, gpu_id=-1,\n",
       "              importance_type='gain', interaction_constraints='',\n",
       "              learning_rate=0.01, max_delta_step=0, max_depth=6,\n",
       "              min_child_weight=1, missing=nan, monotone_constraints='()',\n",
       "              n_estimators=100, n_jobs=16, num_parallel_tree=1,\n",
       "              random_state=123, reg_alpha=0, reg_lambda=1, scale_pos_weight=1,\n",
       "              subsample=1, tree_method='exact', validate_parameters=1,\n",
       "              verbosity=None)"
      ]
     },
     "execution_count": 158,
     "metadata": {},
     "output_type": "execute_result"
    }
   ],
   "source": [
    "# xgboost 모델\n",
    "xgb_model = XGBClassifier(n_estimators=100, learning_rate=0.01, random_state=123)\n",
    "xgb_model.fit(X_train_Scaled, y_train)"
   ]
  },
  {
   "cell_type": "code",
   "execution_count": 159,
   "metadata": {
    "ExecuteTime": {
     "end_time": "2021-06-04T06:40:05.339829Z",
     "start_time": "2021-06-04T06:40:04.035Z"
    },
    "scrolled": true
   },
   "outputs": [
    {
     "name": "stdout",
     "output_type": "stream",
     "text": [
      "[10:14:40] WARNING: C:/Users/Administrator/workspace/xgboost-win64_release_1.4.0/src/learner.cc:1095: Starting in XGBoost 1.3.0, the default evaluation metric used with the objective 'binary:logistic' was changed from 'error' to 'logloss'. Explicitly set eval_metric if you'd like to restore the old behavior.\n",
      "[10:14:40] WARNING: C:/Users/Administrator/workspace/xgboost-win64_release_1.4.0/src/learner.cc:1095: Starting in XGBoost 1.3.0, the default evaluation metric used with the objective 'binary:logistic' was changed from 'error' to 'logloss'. Explicitly set eval_metric if you'd like to restore the old behavior.\n",
      "[10:14:40] WARNING: C:/Users/Administrator/workspace/xgboost-win64_release_1.4.0/src/learner.cc:1095: Starting in XGBoost 1.3.0, the default evaluation metric used with the objective 'binary:logistic' was changed from 'error' to 'logloss'. Explicitly set eval_metric if you'd like to restore the old behavior.\n",
      "[10:14:41] WARNING: C:/Users/Administrator/workspace/xgboost-win64_release_1.4.0/src/learner.cc:1095: Starting in XGBoost 1.3.0, the default evaluation metric used with the objective 'binary:logistic' was changed from 'error' to 'logloss'. Explicitly set eval_metric if you'd like to restore the old behavior.\n",
      "[10:14:41] WARNING: C:/Users/Administrator/workspace/xgboost-win64_release_1.4.0/src/learner.cc:1095: Starting in XGBoost 1.3.0, the default evaluation metric used with the objective 'binary:logistic' was changed from 'error' to 'logloss'. Explicitly set eval_metric if you'd like to restore the old behavior.\n",
      "[10:14:41] WARNING: C:/Users/Administrator/workspace/xgboost-win64_release_1.4.0/src/learner.cc:1095: Starting in XGBoost 1.3.0, the default evaluation metric used with the objective 'binary:logistic' was changed from 'error' to 'logloss'. Explicitly set eval_metric if you'd like to restore the old behavior.\n",
      "[10:14:41] WARNING: C:/Users/Administrator/workspace/xgboost-win64_release_1.4.0/src/learner.cc:1095: Starting in XGBoost 1.3.0, the default evaluation metric used with the objective 'binary:logistic' was changed from 'error' to 'logloss'. Explicitly set eval_metric if you'd like to restore the old behavior.\n",
      "[10:14:42] WARNING: C:/Users/Administrator/workspace/xgboost-win64_release_1.4.0/src/learner.cc:1095: Starting in XGBoost 1.3.0, the default evaluation metric used with the objective 'binary:logistic' was changed from 'error' to 'logloss'. Explicitly set eval_metric if you'd like to restore the old behavior.\n",
      "[10:14:42] WARNING: C:/Users/Administrator/workspace/xgboost-win64_release_1.4.0/src/learner.cc:1095: Starting in XGBoost 1.3.0, the default evaluation metric used with the objective 'binary:logistic' was changed from 'error' to 'logloss'. Explicitly set eval_metric if you'd like to restore the old behavior.\n",
      "[10:14:42] WARNING: C:/Users/Administrator/workspace/xgboost-win64_release_1.4.0/src/learner.cc:1095: Starting in XGBoost 1.3.0, the default evaluation metric used with the objective 'binary:logistic' was changed from 'error' to 'logloss'. Explicitly set eval_metric if you'd like to restore the old behavior.\n",
      "0.6620970774575924\n"
     ]
    }
   ],
   "source": [
    "# 정확도 교차검증\n",
    "acc_result = cross_val_score(xgb_model,\n",
    "                            X_train_Scaled,\n",
    "                            y_train,\n",
    "                            cv=kfold\n",
    "                            )\n",
    "print(acc_result.mean())"
   ]
  },
  {
   "cell_type": "code",
   "execution_count": 160,
   "metadata": {
    "ExecuteTime": {
     "end_time": "2021-06-04T06:40:05.340828Z",
     "start_time": "2021-06-04T06:40:04.035Z"
    },
    "collapsed": true
   },
   "outputs": [
    {
     "name": "stdout",
     "output_type": "stream",
     "text": [
      "[10:14:42] WARNING: C:/Users/Administrator/workspace/xgboost-win64_release_1.4.0/src/learner.cc:1095: Starting in XGBoost 1.3.0, the default evaluation metric used with the objective 'binary:logistic' was changed from 'error' to 'logloss'. Explicitly set eval_metric if you'd like to restore the old behavior.\n",
      "[10:14:42] WARNING: C:/Users/Administrator/workspace/xgboost-win64_release_1.4.0/src/learner.cc:1095: Starting in XGBoost 1.3.0, the default evaluation metric used with the objective 'binary:logistic' was changed from 'error' to 'logloss'. Explicitly set eval_metric if you'd like to restore the old behavior.\n",
      "[10:14:43] WARNING: C:/Users/Administrator/workspace/xgboost-win64_release_1.4.0/src/learner.cc:1095: Starting in XGBoost 1.3.0, the default evaluation metric used with the objective 'binary:logistic' was changed from 'error' to 'logloss'. Explicitly set eval_metric if you'd like to restore the old behavior.\n",
      "[10:14:43] WARNING: C:/Users/Administrator/workspace/xgboost-win64_release_1.4.0/src/learner.cc:1095: Starting in XGBoost 1.3.0, the default evaluation metric used with the objective 'binary:logistic' was changed from 'error' to 'logloss'. Explicitly set eval_metric if you'd like to restore the old behavior.\n",
      "[10:14:43] WARNING: C:/Users/Administrator/workspace/xgboost-win64_release_1.4.0/src/learner.cc:1095: Starting in XGBoost 1.3.0, the default evaluation metric used with the objective 'binary:logistic' was changed from 'error' to 'logloss'. Explicitly set eval_metric if you'd like to restore the old behavior.\n",
      "[10:14:43] WARNING: C:/Users/Administrator/workspace/xgboost-win64_release_1.4.0/src/learner.cc:1095: Starting in XGBoost 1.3.0, the default evaluation metric used with the objective 'binary:logistic' was changed from 'error' to 'logloss'. Explicitly set eval_metric if you'd like to restore the old behavior.\n",
      "[10:14:43] WARNING: C:/Users/Administrator/workspace/xgboost-win64_release_1.4.0/src/learner.cc:1095: Starting in XGBoost 1.3.0, the default evaluation metric used with the objective 'binary:logistic' was changed from 'error' to 'logloss'. Explicitly set eval_metric if you'd like to restore the old behavior.\n",
      "[10:14:44] WARNING: C:/Users/Administrator/workspace/xgboost-win64_release_1.4.0/src/learner.cc:1095: Starting in XGBoost 1.3.0, the default evaluation metric used with the objective 'binary:logistic' was changed from 'error' to 'logloss'. Explicitly set eval_metric if you'd like to restore the old behavior.\n",
      "[10:14:44] WARNING: C:/Users/Administrator/workspace/xgboost-win64_release_1.4.0/src/learner.cc:1095: Starting in XGBoost 1.3.0, the default evaluation metric used with the objective 'binary:logistic' was changed from 'error' to 'logloss'. Explicitly set eval_metric if you'd like to restore the old behavior.\n",
      "[10:14:44] WARNING: C:/Users/Administrator/workspace/xgboost-win64_release_1.4.0/src/learner.cc:1095: Starting in XGBoost 1.3.0, the default evaluation metric used with the objective 'binary:logistic' was changed from 'error' to 'logloss'. Explicitly set eval_metric if you'd like to restore the old behavior.\n",
      "0.6914343291159606\n"
     ]
    }
   ],
   "source": [
    "# f1스코어 교차검증\n",
    "f1_result = cross_val_score(xgb_model,\n",
    "                           X_train_Scaled,\n",
    "                           y_train,\n",
    "                           cv=kfold,\n",
    "                           scoring='f1'\n",
    "                           )\n",
    "print(f1_result.mean())"
   ]
  },
  {
   "cell_type": "code",
   "execution_count": 161,
   "metadata": {
    "ExecuteTime": {
     "end_time": "2021-06-04T06:40:05.341824Z",
     "start_time": "2021-06-04T06:40:04.036Z"
    }
   },
   "outputs": [],
   "source": [
    "# randomforest 모델"
   ]
  },
  {
   "cell_type": "code",
   "execution_count": 162,
   "metadata": {
    "ExecuteTime": {
     "end_time": "2021-06-04T06:40:05.341824Z",
     "start_time": "2021-06-04T06:40:04.037Z"
    },
    "collapsed": true
   },
   "outputs": [
    {
     "data": {
      "text/plain": [
       "array([[-0.58111355, -0.70655499, -0.04839494, ..., -0.57982499,\n",
       "         0.93053878, -0.93053878],\n",
       "       [ 0.94600049,  0.00263451,  1.01675021, ..., -0.57982499,\n",
       "         0.93053878, -0.93053878],\n",
       "       [-0.07207554, -1.41574448, -0.04839494, ..., -0.57982499,\n",
       "        -1.07464624,  1.07464624],\n",
       "       ...,\n",
       "       [-1.59918958, -1.41574448,  1.01675021, ...,  1.72465832,\n",
       "         0.93053878, -0.93053878],\n",
       "       [-0.07207554, -1.41574448, -0.58096751, ..., -0.57982499,\n",
       "        -1.07464624,  1.07464624],\n",
       "       [-0.07207554,  0.00263451,  2.08189536, ...,  1.72465832,\n",
       "        -1.07464624,  1.07464624]])"
      ]
     },
     "execution_count": 162,
     "metadata": {},
     "output_type": "execute_result"
    }
   ],
   "source": [
    "X_train_Scaled"
   ]
  },
  {
   "cell_type": "code",
   "execution_count": 163,
   "metadata": {
    "ExecuteTime": {
     "end_time": "2021-06-04T06:40:05.342822Z",
     "start_time": "2021-06-04T06:40:04.038Z"
    }
   },
   "outputs": [
    {
     "data": {
      "text/plain": [
       "RandomForestClassifier(random_state=11)"
      ]
     },
     "execution_count": 163,
     "metadata": {},
     "output_type": "execute_result"
    }
   ],
   "source": [
    "rf_model = RandomForestClassifier(n_estimators=100, random_state=11)\n",
    "rf_model.fit(X_train_Scaled, y_train)"
   ]
  },
  {
   "cell_type": "code",
   "execution_count": 164,
   "metadata": {
    "ExecuteTime": {
     "end_time": "2021-06-04T06:40:05.342822Z",
     "start_time": "2021-06-04T06:40:04.039Z"
    }
   },
   "outputs": [
    {
     "name": "stdout",
     "output_type": "stream",
     "text": [
      "0.6142321684038422\n"
     ]
    }
   ],
   "source": [
    "# 정확도 교차검증\n",
    "acc_result = cross_val_score(rf_model,\n",
    "                            X_train_Scaled,\n",
    "                            y_train,\n",
    "                            cv=kfold\n",
    "                            )\n",
    "print(acc_result.mean())"
   ]
  },
  {
   "cell_type": "code",
   "execution_count": 165,
   "metadata": {
    "ExecuteTime": {
     "end_time": "2021-06-04T06:40:05.343819Z",
     "start_time": "2021-06-04T06:40:04.040Z"
    }
   },
   "outputs": [
    {
     "name": "stdout",
     "output_type": "stream",
     "text": [
      "0.6790035393726732\n"
     ]
    }
   ],
   "source": [
    "# f1스코어 교차검증\n",
    "f1_result = cross_val_score(rf_model,\n",
    "                           X_train_Scaled,\n",
    "                           y_train,\n",
    "                           cv=kfold,\n",
    "                           scoring='f1'\n",
    "                           )\n",
    "print(f1_result.mean())"
   ]
  },
  {
   "cell_type": "code",
   "execution_count": 166,
   "metadata": {
    "ExecuteTime": {
     "end_time": "2021-06-04T06:40:05.343819Z",
     "start_time": "2021-06-04T06:40:04.041Z"
    }
   },
   "outputs": [],
   "source": [
    "pre_lgbm=lgbm_model.predict(X_test_Scaled)"
   ]
  },
  {
   "cell_type": "code",
   "execution_count": 167,
   "metadata": {
    "ExecuteTime": {
     "end_time": "2021-06-04T06:40:05.344816Z",
     "start_time": "2021-06-04T06:40:04.042Z"
    }
   },
   "outputs": [],
   "source": [
    "pre_xgb=xgb_model.predict(X_test_Scaled)"
   ]
  },
  {
   "cell_type": "code",
   "execution_count": 168,
   "metadata": {
    "ExecuteTime": {
     "end_time": "2021-06-04T06:40:05.345814Z",
     "start_time": "2021-06-04T06:40:04.042Z"
    }
   },
   "outputs": [],
   "source": [
    "pre_rf=rf_model.predict(X_test_Scaled)"
   ]
  },
  {
   "cell_type": "code",
   "execution_count": 169,
   "metadata": {
    "ExecuteTime": {
     "end_time": "2021-06-04T06:40:05.345814Z",
     "start_time": "2021-06-04T06:40:04.043Z"
    }
   },
   "outputs": [],
   "source": [
    "result_submission = pd.read_csv('data/sampleSubmission.csv')"
   ]
  },
  {
   "cell_type": "code",
   "execution_count": 170,
   "metadata": {
    "ExecuteTime": {
     "end_time": "2021-06-04T06:40:05.346812Z",
     "start_time": "2021-06-04T06:40:04.044Z"
    }
   },
   "outputs": [],
   "source": [
    "result_submission['Reached.on.Time_Y.N'] = pre_xgb\n",
    "result_submission.to_csv('submission_xgb.csv', index=False)"
   ]
  },
  {
   "cell_type": "code",
   "execution_count": 171,
   "metadata": {
    "ExecuteTime": {
     "end_time": "2021-06-04T06:40:05.347809Z",
     "start_time": "2021-06-04T06:40:04.045Z"
    }
   },
   "outputs": [],
   "source": [
    "result_submission['Reached.on.Time_Y.N'] = pre_lgbm\n",
    "result_submission.to_csv('submission_lgbm.csv', index=False)"
   ]
  },
  {
   "cell_type": "code",
   "execution_count": 172,
   "metadata": {
    "ExecuteTime": {
     "end_time": "2021-06-04T06:40:05.347809Z",
     "start_time": "2021-06-04T06:40:04.046Z"
    }
   },
   "outputs": [],
   "source": [
    "result_submission['Reached.on.Time_Y.N'] = pre_rf\n",
    "result_submission.to_csv('submission_rf.csv', index=False)"
   ]
  },
  {
   "cell_type": "code",
   "execution_count": null,
   "metadata": {},
   "outputs": [],
   "source": []
  }
 ],
 "metadata": {
  "kernelspec": {
   "display_name": "Python 3",
   "language": "python",
   "name": "python3"
  },
  "language_info": {
   "codemirror_mode": {
    "name": "ipython",
    "version": 3
   },
   "file_extension": ".py",
   "mimetype": "text/x-python",
   "name": "python",
   "nbconvert_exporter": "python",
   "pygments_lexer": "ipython3",
   "version": "3.8.5"
  },
  "toc": {
   "base_numbering": 1,
   "nav_menu": {},
   "number_sections": true,
   "sideBar": true,
   "skip_h1_title": false,
   "title_cell": "Table of Contents",
   "title_sidebar": "Contents",
   "toc_cell": false,
   "toc_position": {
    "height": "calc(100% - 180px)",
    "left": "10px",
    "top": "150px",
    "width": "307.2px"
   },
   "toc_section_display": true,
   "toc_window_display": true
  }
 },
 "nbformat": 4,
 "nbformat_minor": 4
}
